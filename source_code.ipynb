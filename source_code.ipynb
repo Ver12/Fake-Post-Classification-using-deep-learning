{
 "cells": [
  {
   "cell_type": "code",
   "execution_count": 1,
   "id": "fabulous-registrar",
   "metadata": {},
   "outputs": [
    {
     "name": "stderr",
     "output_type": "stream",
     "text": [
      "c:\\users\\vernonkoohx\\appdata\\local\\programs\\python\\python38\\lib\\site-packages\\tqdm\\auto.py:22: TqdmWarning: IProgress not found. Please update jupyter and ipywidgets. See https://ipywidgets.readthedocs.io/en/stable/user_install.html\n",
      "  from .autonotebook import tqdm as notebook_tqdm\n",
      "[nltk_data] Error loading wordnet: <urlopen error [Errno 11001]\n",
      "[nltk_data]     getaddrinfo failed>\n"
     ]
    },
    {
     "data": {
      "text/plain": [
       "False"
      ]
     },
     "execution_count": 1,
     "metadata": {},
     "output_type": "execute_result"
    }
   ],
   "source": [
    "#import library\n",
    "import re\n",
    "import emoji\n",
    "import sklearn\n",
    "from langdetect import detect\n",
    "import numpy as np\n",
    "import pandas as pd\n",
    "import seaborn as sns\n",
    "import nltk\n",
    "from nltk.corpus import stopwords\n",
    "from nltk.stem import WordNetLemmatizer\n",
    "from sklearn.preprocessing import LabelEncoder\n",
    "from imblearn.over_sampling import SMOTE\n",
    "import matplotlib.pyplot as plt\n",
    "from sklearn.feature_extraction.text import TfidfVectorizer, CountVectorizer\n",
    "from sklearn.pipeline import Pipeline\n",
    "from sklearn.metrics import classification_report\n",
    "from sklearn.metrics.pairwise import cosine_similarity\n",
    "from sklearn.preprocessing import LabelEncoder\n",
    "from sklearn.model_selection import GridSearchCV\n",
    "from sklearn.metrics import RocCurveDisplay\n",
    "from sklearn.svm import SVC\n",
    "from sklearn.linear_model import LogisticRegression\n",
    "from sklearn.ensemble import RandomForestClassifier\n",
    "from sklearn.metrics import confusion_matrix\n",
    "from sklearn.metrics import roc_curve, auc\n",
    "from sentence_transformers import SentenceTransformer\n",
    "from sklearn.decomposition import PCA\n",
    "\n",
    "nltk.download(\"wordnet\")"
   ]
  },
  {
   "cell_type": "code",
   "execution_count": 2,
   "id": "silent-noise",
   "metadata": {},
   "outputs": [
    {
     "name": "stdout",
     "output_type": "stream",
     "text": [
      "2.9.0\n",
      "1.3.2\n"
     ]
    }
   ],
   "source": [
    "#check some library version\n",
    "print(emoji.__version__)\n",
    "print(sklearn.__version__)"
   ]
  },
  {
   "cell_type": "markdown",
   "id": "killing-drilling",
   "metadata": {},
   "source": [
    "# File Reading"
   ]
  },
  {
   "cell_type": "code",
   "execution_count": 3,
   "id": "interior-conditions",
   "metadata": {},
   "outputs": [],
   "source": [
    "#define training and testing dataset path\n",
    "trainData_path = './mediaeval-2015-trainingset.txt'\n",
    "testData_path =  './mediaeval-2015-testset.txt'"
   ]
  },
  {
   "cell_type": "code",
   "execution_count": 4,
   "id": "vulnerable-dance",
   "metadata": {},
   "outputs": [
    {
     "name": "stdout",
     "output_type": "stream",
     "text": [
      "tweetId\n",
      "7\n"
     ]
    }
   ],
   "source": [
    "#read training and testing file\n",
    "trainFile=open(trainData_path,encoding='utf-8')\n",
    "testFile=open(testData_path,encoding = 'utf-8')\n",
    "\n",
    "trainheader =trainFile.readline().strip().split('\\t')\n",
    "traindata = trainFile.readlines()\n",
    "traindataList = list()\n",
    "\n",
    "testheader =testFile.readline().strip().split('\\t')\n",
    "testdata = testFile.readlines()\n",
    "testdataList = list()\n",
    "\n",
    "for line in traindata:\n",
    "  preprocessed_train_data = line.replace('\"', '').strip().split('\\t')\n",
    "  traindataList.append(preprocessed_train_data)\n",
    "    \n",
    "for line in testdata:\n",
    "    preprocessed_test_data = line.replace('\"', '').strip().split('\\t')\n",
    "    testdataList.append(preprocessed_test_data)\n",
    "\n",
    "print(trainheader[0])\n",
    "print(len(testheader))\n"
   ]
  },
  {
   "cell_type": "code",
   "execution_count": 5,
   "id": "wireless-society",
   "metadata": {},
   "outputs": [
    {
     "data": {
      "text/html": [
       "<div>\n",
       "<style scoped>\n",
       "    .dataframe tbody tr th:only-of-type {\n",
       "        vertical-align: middle;\n",
       "    }\n",
       "\n",
       "    .dataframe tbody tr th {\n",
       "        vertical-align: top;\n",
       "    }\n",
       "\n",
       "    .dataframe thead th {\n",
       "        text-align: right;\n",
       "    }\n",
       "</style>\n",
       "<table border=\"1\" class=\"dataframe\">\n",
       "  <thead>\n",
       "    <tr style=\"text-align: right;\">\n",
       "      <th></th>\n",
       "      <th>tweetId</th>\n",
       "      <th>tweetText</th>\n",
       "      <th>userId</th>\n",
       "      <th>imageId(s)</th>\n",
       "      <th>username</th>\n",
       "      <th>timestamp</th>\n",
       "      <th>label</th>\n",
       "    </tr>\n",
       "  </thead>\n",
       "  <tbody>\n",
       "    <tr>\n",
       "      <th>0</th>\n",
       "      <td>263046056240115712</td>\n",
       "      <td>¿Se acuerdan de la película: “El día después d...</td>\n",
       "      <td>21226711</td>\n",
       "      <td>sandyA_fake_46</td>\n",
       "      <td>iAnnieM</td>\n",
       "      <td>Mon Oct 29 22:34:01 +0000 2012</td>\n",
       "      <td>fake</td>\n",
       "    </tr>\n",
       "    <tr>\n",
       "      <th>1</th>\n",
       "      <td>262995061304852481</td>\n",
       "      <td>@milenagimon: Miren a Sandy en NY!  Tremenda i...</td>\n",
       "      <td>192378571</td>\n",
       "      <td>sandyA_fake_09</td>\n",
       "      <td>CarlosVerareal</td>\n",
       "      <td>Mon Oct 29 19:11:23 +0000 2012</td>\n",
       "      <td>fake</td>\n",
       "    </tr>\n",
       "    <tr>\n",
       "      <th>2</th>\n",
       "      <td>262979898002534400</td>\n",
       "      <td>Buena la foto del Huracán Sandy, me recuerda a...</td>\n",
       "      <td>132303095</td>\n",
       "      <td>sandyA_fake_09</td>\n",
       "      <td>LucasPalape</td>\n",
       "      <td>Mon Oct 29 18:11:08 +0000 2012</td>\n",
       "      <td>fake</td>\n",
       "    </tr>\n",
       "    <tr>\n",
       "      <th>3</th>\n",
       "      <td>262996108400271360</td>\n",
       "      <td>Scary shit #hurricane #NY http://t.co/e4JLBUfH</td>\n",
       "      <td>241995902</td>\n",
       "      <td>sandyA_fake_29</td>\n",
       "      <td>Haaaaarryyy</td>\n",
       "      <td>Mon Oct 29 19:15:33 +0000 2012</td>\n",
       "      <td>fake</td>\n",
       "    </tr>\n",
       "    <tr>\n",
       "      <th>4</th>\n",
       "      <td>263018881839411200</td>\n",
       "      <td>My fave place in the world #nyc #hurricane #sa...</td>\n",
       "      <td>250315890</td>\n",
       "      <td>sandyA_fake_15</td>\n",
       "      <td>princess__natt</td>\n",
       "      <td>Mon Oct 29 20:46:02 +0000 2012</td>\n",
       "      <td>fake</td>\n",
       "    </tr>\n",
       "  </tbody>\n",
       "</table>\n",
       "</div>"
      ],
      "text/plain": [
       "              tweetId                                          tweetText  \\\n",
       "0  263046056240115712  ¿Se acuerdan de la película: “El día después d...   \n",
       "1  262995061304852481  @milenagimon: Miren a Sandy en NY!  Tremenda i...   \n",
       "2  262979898002534400  Buena la foto del Huracán Sandy, me recuerda a...   \n",
       "3  262996108400271360     Scary shit #hurricane #NY http://t.co/e4JLBUfH   \n",
       "4  263018881839411200  My fave place in the world #nyc #hurricane #sa...   \n",
       "\n",
       "      userId      imageId(s)        username                       timestamp  \\\n",
       "0   21226711  sandyA_fake_46         iAnnieM  Mon Oct 29 22:34:01 +0000 2012   \n",
       "1  192378571  sandyA_fake_09  CarlosVerareal  Mon Oct 29 19:11:23 +0000 2012   \n",
       "2  132303095  sandyA_fake_09     LucasPalape  Mon Oct 29 18:11:08 +0000 2012   \n",
       "3  241995902  sandyA_fake_29     Haaaaarryyy  Mon Oct 29 19:15:33 +0000 2012   \n",
       "4  250315890  sandyA_fake_15  princess__natt  Mon Oct 29 20:46:02 +0000 2012   \n",
       "\n",
       "  label  \n",
       "0  fake  \n",
       "1  fake  \n",
       "2  fake  \n",
       "3  fake  \n",
       "4  fake  "
      ]
     },
     "execution_count": 5,
     "metadata": {},
     "output_type": "execute_result"
    }
   ],
   "source": [
    "#converting training data into a dataframe\n",
    "train_data_dict = dict()\n",
    "test_data_dict = dict()\n",
    "\n",
    "for column in trainheader:\n",
    "  train_data_dict[column]=[]\n",
    "\n",
    "for entry in traindataList:\n",
    "  for i,value in enumerate(entry):\n",
    "     train_data_dict[trainheader[i]].append(value)\n",
    "        \n",
    "        \n",
    "for column in testheader:\n",
    "  test_data_dict[column]=[]\n",
    "\n",
    "for entry in testdataList:\n",
    "  for i,value in enumerate(entry):\n",
    "     test_data_dict[testheader[i]].append(value)\n",
    "        \n",
    "df = pd.DataFrame(train_data_dict)\n",
    "df.head(5)"
   ]
  },
  {
   "cell_type": "markdown",
   "id": "innovative-envelope",
   "metadata": {},
   "source": [
    "# Data Cleaning"
   ]
  },
  {
   "cell_type": "code",
   "execution_count": 6,
   "id": "clinical-anaheim",
   "metadata": {},
   "outputs": [
    {
     "data": {
      "text/plain": [
       "0"
      ]
     },
     "execution_count": 6,
     "metadata": {},
     "output_type": "execute_result"
    }
   ],
   "source": [
    "#check any null in training dataset\n",
    "df['tweetText'].isnull().sum()"
   ]
  },
  {
   "cell_type": "code",
   "execution_count": 7,
   "id": "molecular-prototype",
   "metadata": {},
   "outputs": [
    {
     "data": {
      "image/png": "[encoded data removed]",
      "text/plain": [
       "<Figure size 432x288 with 1 Axes>"
      ]
     },
     "metadata": {},
     "output_type": "display_data"
    }
   ],
   "source": [
    "#plot the distribution of label\n",
    "plt.pie(df['label'].value_counts(), labels=df['label'].unique().tolist(), autopct='%1.1f%%')\n",
    "plt.title(\" Percentage Distribution of Fake, Humor and Real Posts\")\n",
    "plt.show()"
   ]
  },
  {
   "cell_type": "code",
   "execution_count": 8,
   "id": "fifth-heavy",
   "metadata": {},
   "outputs": [
    {
     "name": "stdout",
     "output_type": "stream",
     "text": [
      "2633\n",
      "0\n"
     ]
    },
    {
     "data": {
      "image/png": "[encoded data removed]",
      "text/plain": [
       "<Figure size 432x288 with 1 Axes>"
      ]
     },
     "metadata": {},
     "output_type": "display_data"
    }
   ],
   "source": [
    "# convert humor into fake label to simplify task into binary classification\n",
    "def changeLabel(label):\n",
    "    if label == 'humor':\n",
    "        label ='fake'\n",
    "    else:\n",
    "        pass\n",
    "    return label\n",
    "\n",
    "print((df['label']=='humor').sum())\n",
    "df['label']=df['label'].apply(changeLabel)\n",
    "print((df['label']=='humor').sum())\n",
    "plt.pie(df['label'].value_counts(), labels=df['label'].unique().tolist(), autopct='%1.1f%%')\n",
    "plt.title(\" Percentage Distribution of Fake and Real Posts\")\n",
    "plt.show()"
   ]
  },
  {
   "cell_type": "code",
   "execution_count": 9,
   "id": "dirty-capital",
   "metadata": {},
   "outputs": [
    {
     "name": "stdout",
     "output_type": "stream",
     "text": [
      "{'es': 1291, 'en': 11154, 'sq': 7, 'ru': 61, 'it': 102, 'no': 34, 'fr': 218, 'bg': 8, 'nl': 93, 'pt': 162, 'de': 123, 'tl': 320, 'pl': 39, 'id': 182, 'cy': 128, 'ja': 21, 'ar': 81, 'vi': 13, 'et': 14, 'ca': 35, 'hu': 6, 'sv': 47, 'so': 115, 'fi': 14, 'af': 62, 'sk': 10, 'el': 5, 'da': 28, 'lt': 4, 'he': 1, 'hr': 6, 'ko': 7, 'tr': 33, 'zh-cn': 10, 'ro': 4, 'fa': 2, 'sl': 6, 'sw': 11, 'th': 19, 'cs': 3, 'mk': 1, 'hi': 1, 'lv': 1}\n"
     ]
    }
   ],
   "source": [
    "# detect different languages in training dataset\n",
    "language_dict=dict()\n",
    "\n",
    "def languageDetect(corpus):\n",
    "    for sentence in corpus:\n",
    "        try:\n",
    "            language = detect(sentence)\n",
    "            if language not in language_dict.keys():\n",
    "                language_dict[language]=1\n",
    "            else:\n",
    "                language_dict[language]=language_dict[language]+1\n",
    "        except:\n",
    "            pass   \n",
    "                \n",
    "languageDetect(df['tweetText'].tolist())\n",
    "print(language_dict)\n"
   ]
  },
  {
   "cell_type": "code",
   "execution_count": 10,
   "id": "according-classification",
   "metadata": {},
   "outputs": [],
   "source": [
    "#countlist=list(language_dict.values())\n",
    "#sum(countlist)"
   ]
  },
  {
   "cell_type": "code",
   "execution_count": 11,
   "id": "confident-bangladesh",
   "metadata": {},
   "outputs": [
    {
     "data": {
      "text/plain": [
       "Text(0.5, 1.0, 'Text Language Distribution')"
      ]
     },
     "execution_count": 11,
     "metadata": {},
     "output_type": "execute_result"
    },
    {
     "data": {
      "image/png": "[encoded data removed]",
      "text/plain": [
       "<Figure size 432x288 with 1 Axes>"
      ]
     },
     "metadata": {
      "needs_background": "light"
     },
     "output_type": "display_data"
    }
   ],
   "source": [
    "#plot the top 10 languages used\n",
    "language = list()\n",
    "language_count = list()\n",
    "\n",
    "sorted_language_dict = sorted(language_dict.items(), key=lambda x:x[1],reverse=True )\n",
    "for keyValue in sorted_language_dict:\n",
    "    lang,lang_count = keyValue\n",
    "    language.append(lang)\n",
    "    language_count.append(lang_count)\n",
    "\n",
    "sns.barplot(x=language_count[:5],y=language[:5])\n",
    "\n",
    "plt.title('Text Language Distribution')\n"
   ]
  },
  {
   "cell_type": "code",
   "execution_count": 12,
   "id": "separate-cleanup",
   "metadata": {},
   "outputs": [
    {
     "data": {
      "text/html": [
       "<div>\n",
       "<style scoped>\n",
       "    .dataframe tbody tr th:only-of-type {\n",
       "        vertical-align: middle;\n",
       "    }\n",
       "\n",
       "    .dataframe tbody tr th {\n",
       "        vertical-align: top;\n",
       "    }\n",
       "\n",
       "    .dataframe thead th {\n",
       "        text-align: right;\n",
       "    }\n",
       "</style>\n",
       "<table border=\"1\" class=\"dataframe\">\n",
       "  <thead>\n",
       "    <tr style=\"text-align: right;\">\n",
       "      <th></th>\n",
       "      <th>tweetId</th>\n",
       "      <th>tweetText</th>\n",
       "      <th>userId</th>\n",
       "      <th>imageId(s)</th>\n",
       "      <th>username</th>\n",
       "      <th>timestamp</th>\n",
       "      <th>label</th>\n",
       "    </tr>\n",
       "  </thead>\n",
       "  <tbody>\n",
       "    <tr>\n",
       "      <th>0</th>\n",
       "      <td>263046056240115712</td>\n",
       "      <td>¿Se acuerdan de la película: “El día después d...</td>\n",
       "      <td>21226711</td>\n",
       "      <td>sandyA_fake_46</td>\n",
       "      <td>iAnnieM</td>\n",
       "      <td>Mon Oct 29 22:34:01 +0000 2012</td>\n",
       "      <td>fake</td>\n",
       "    </tr>\n",
       "    <tr>\n",
       "      <th>1</th>\n",
       "      <td>262995061304852481</td>\n",
       "      <td>@milenagimon: Miren a Sandy en NY!  Tremenda i...</td>\n",
       "      <td>192378571</td>\n",
       "      <td>sandyA_fake_09</td>\n",
       "      <td>CarlosVerareal</td>\n",
       "      <td>Mon Oct 29 19:11:23 +0000 2012</td>\n",
       "      <td>fake</td>\n",
       "    </tr>\n",
       "    <tr>\n",
       "      <th>2</th>\n",
       "      <td>262979898002534400</td>\n",
       "      <td>Buena la foto del Huracán Sandy, me recuerda a...</td>\n",
       "      <td>132303095</td>\n",
       "      <td>sandyA_fake_09</td>\n",
       "      <td>LucasPalape</td>\n",
       "      <td>Mon Oct 29 18:11:08 +0000 2012</td>\n",
       "      <td>fake</td>\n",
       "    </tr>\n",
       "    <tr>\n",
       "      <th>3</th>\n",
       "      <td>262996108400271360</td>\n",
       "      <td>Scary shit #hurricane #NY http://t.co/e4JLBUfH</td>\n",
       "      <td>241995902</td>\n",
       "      <td>sandyA_fake_29</td>\n",
       "      <td>Haaaaarryyy</td>\n",
       "      <td>Mon Oct 29 19:15:33 +0000 2012</td>\n",
       "      <td>fake</td>\n",
       "    </tr>\n",
       "    <tr>\n",
       "      <th>4</th>\n",
       "      <td>263018881839411200</td>\n",
       "      <td>My fave place in the world #nyc #hurricane #sa...</td>\n",
       "      <td>250315890</td>\n",
       "      <td>sandyA_fake_15</td>\n",
       "      <td>princess__natt</td>\n",
       "      <td>Mon Oct 29 20:46:02 +0000 2012</td>\n",
       "      <td>fake</td>\n",
       "    </tr>\n",
       "    <tr>\n",
       "      <th>...</th>\n",
       "      <td>...</td>\n",
       "      <td>...</td>\n",
       "      <td>...</td>\n",
       "      <td>...</td>\n",
       "      <td>...</td>\n",
       "      <td>...</td>\n",
       "      <td>...</td>\n",
       "    </tr>\n",
       "    <tr>\n",
       "      <th>12537</th>\n",
       "      <td>443231991593304064</td>\n",
       "      <td>@BobombDom *slaps TweetDeck with the PigFish h...</td>\n",
       "      <td>2179310905</td>\n",
       "      <td>pigFish_01</td>\n",
       "      <td>Da_Vault_Hunter</td>\n",
       "      <td>Tue Mar 11 03: 48: 36 +0000 2014</td>\n",
       "      <td>fake</td>\n",
       "    </tr>\n",
       "    <tr>\n",
       "      <th>12538</th>\n",
       "      <td>443086239127076865</td>\n",
       "      <td>New Species of Fish found in Brazil or just Re...</td>\n",
       "      <td>254843101</td>\n",
       "      <td>pigFish_01</td>\n",
       "      <td>DjSituation_RC</td>\n",
       "      <td>Mon Mar 10 18: 09: 26 +0000 2014</td>\n",
       "      <td>fake</td>\n",
       "    </tr>\n",
       "    <tr>\n",
       "      <th>12539</th>\n",
       "      <td>442978105238753280</td>\n",
       "      <td>What do we call this? #pigFISH http: \\/\\/t.co\\...</td>\n",
       "      <td>2367553228</td>\n",
       "      <td>pigFish_01</td>\n",
       "      <td>Vivo1Vuyo</td>\n",
       "      <td>Mon Mar 10 10: 59: 45 +0000 2014</td>\n",
       "      <td>fake</td>\n",
       "    </tr>\n",
       "    <tr>\n",
       "      <th>12540</th>\n",
       "      <td>442753479782989824</td>\n",
       "      <td>Pigfish ? E dopo il pescecane c'è il pesce mai...</td>\n",
       "      <td>603120231</td>\n",
       "      <td>pigFish_01</td>\n",
       "      <td>CosimoTarta</td>\n",
       "      <td>Sun Mar 09 20: 07: 10 +0000 2014</td>\n",
       "      <td>fake</td>\n",
       "    </tr>\n",
       "    <tr>\n",
       "      <th>12541</th>\n",
       "      <td>442700377860104192</td>\n",
       "      <td>For those who can't decide between fish or mea...</td>\n",
       "      <td>25086784</td>\n",
       "      <td>pigFish_01</td>\n",
       "      <td>johnszim</td>\n",
       "      <td>Sun Mar 09 16: 36: 09 +0000 2014</td>\n",
       "      <td>fake</td>\n",
       "    </tr>\n",
       "  </tbody>\n",
       "</table>\n",
       "<p>12542 rows × 7 columns</p>\n",
       "</div>"
      ],
      "text/plain": [
       "                  tweetId                                          tweetText  \\\n",
       "0      263046056240115712  ¿Se acuerdan de la película: “El día después d...   \n",
       "1      262995061304852481  @milenagimon: Miren a Sandy en NY!  Tremenda i...   \n",
       "2      262979898002534400  Buena la foto del Huracán Sandy, me recuerda a...   \n",
       "3      262996108400271360     Scary shit #hurricane #NY http://t.co/e4JLBUfH   \n",
       "4      263018881839411200  My fave place in the world #nyc #hurricane #sa...   \n",
       "...                   ...                                                ...   \n",
       "12537  443231991593304064  @BobombDom *slaps TweetDeck with the PigFish h...   \n",
       "12538  443086239127076865  New Species of Fish found in Brazil or just Re...   \n",
       "12539  442978105238753280  What do we call this? #pigFISH http: \\/\\/t.co\\...   \n",
       "12540  442753479782989824  Pigfish ? E dopo il pescecane c'è il pesce mai...   \n",
       "12541  442700377860104192  For those who can't decide between fish or mea...   \n",
       "\n",
       "           userId      imageId(s)         username  \\\n",
       "0        21226711  sandyA_fake_46          iAnnieM   \n",
       "1       192378571  sandyA_fake_09   CarlosVerareal   \n",
       "2       132303095  sandyA_fake_09      LucasPalape   \n",
       "3       241995902  sandyA_fake_29      Haaaaarryyy   \n",
       "4       250315890  sandyA_fake_15   princess__natt   \n",
       "...           ...             ...              ...   \n",
       "12537  2179310905      pigFish_01  Da_Vault_Hunter   \n",
       "12538   254843101      pigFish_01   DjSituation_RC   \n",
       "12539  2367553228      pigFish_01        Vivo1Vuyo   \n",
       "12540   603120231      pigFish_01      CosimoTarta   \n",
       "12541    25086784      pigFish_01         johnszim   \n",
       "\n",
       "                              timestamp label  \n",
       "0        Mon Oct 29 22:34:01 +0000 2012  fake  \n",
       "1        Mon Oct 29 19:11:23 +0000 2012  fake  \n",
       "2        Mon Oct 29 18:11:08 +0000 2012  fake  \n",
       "3        Mon Oct 29 19:15:33 +0000 2012  fake  \n",
       "4        Mon Oct 29 20:46:02 +0000 2012  fake  \n",
       "...                                 ...   ...  \n",
       "12537  Tue Mar 11 03: 48: 36 +0000 2014  fake  \n",
       "12538  Mon Mar 10 18: 09: 26 +0000 2014  fake  \n",
       "12539  Mon Mar 10 10: 59: 45 +0000 2014  fake  \n",
       "12540  Sun Mar 09 20: 07: 10 +0000 2014  fake  \n",
       "12541  Sun Mar 09 16: 36: 09 +0000 2014  fake  \n",
       "\n",
       "[12542 rows x 7 columns]"
      ]
     },
     "execution_count": 12,
     "metadata": {},
     "output_type": "execute_result"
    }
   ],
   "source": [
    "#drop duplicate if any and reset the index after removal\n",
    "df = df.drop_duplicates(subset=['tweetText'],keep='first')\n",
    "df = df.reset_index(drop=True)  #reset index after remove duplicates\n",
    "df"
   ]
  },
  {
   "cell_type": "code",
   "execution_count": 13,
   "id": "silent-virginia",
   "metadata": {},
   "outputs": [
    {
     "data": {
      "text/html": [
       "<div>\n",
       "<style scoped>\n",
       "    .dataframe tbody tr th:only-of-type {\n",
       "        vertical-align: middle;\n",
       "    }\n",
       "\n",
       "    .dataframe tbody tr th {\n",
       "        vertical-align: top;\n",
       "    }\n",
       "\n",
       "    .dataframe thead th {\n",
       "        text-align: right;\n",
       "    }\n",
       "</style>\n",
       "<table border=\"1\" class=\"dataframe\">\n",
       "  <thead>\n",
       "    <tr style=\"text-align: right;\">\n",
       "      <th></th>\n",
       "      <th>tweetText</th>\n",
       "      <th>label</th>\n",
       "    </tr>\n",
       "  </thead>\n",
       "  <tbody>\n",
       "    <tr>\n",
       "      <th>12512</th>\n",
       "      <td>MH370 has been found. They are all safe :) htt...</td>\n",
       "      <td>fake</td>\n",
       "    </tr>\n",
       "    <tr>\n",
       "      <th>12513</th>\n",
       "      <td>MH370 has finally been found!!!! Woot woot!! h...</td>\n",
       "      <td>fake</td>\n",
       "    </tr>\n",
       "    <tr>\n",
       "      <th>12514</th>\n",
       "      <td>@ZakiEzarik: MH370 found ..LOL http://t.co/MS9...</td>\n",
       "      <td>fake</td>\n",
       "    </tr>\n",
       "    <tr>\n",
       "      <th>12515</th>\n",
       "      <td>MH370 found ..LOL http://t.co/9rsOdub8oF</td>\n",
       "      <td>fake</td>\n",
       "    </tr>\n",
       "    <tr>\n",
       "      <th>12516</th>\n",
       "      <td>They found flight MH370!!!!! Lol http://t.co/R...</td>\n",
       "      <td>fake</td>\n",
       "    </tr>\n",
       "    <tr>\n",
       "      <th>12517</th>\n",
       "      <td>Tak lawak pukimak cibai . \\n\\n“@SYAFIQBAKHARI:...</td>\n",
       "      <td>fake</td>\n",
       "    </tr>\n",
       "    <tr>\n",
       "      <th>12518</th>\n",
       "      <td>MH370 selamat mendarat dilapangan Batu Berenda...</td>\n",
       "      <td>fake</td>\n",
       "    </tr>\n",
       "    <tr>\n",
       "      <th>12519</th>\n",
       "      <td>Una aplicación para tener diversión... ¿la usa...</td>\n",
       "      <td>fake</td>\n",
       "    </tr>\n",
       "    <tr>\n",
       "      <th>12520</th>\n",
       "      <td>Utiliser son iPhone en étant bourré ? LIVR, UN...</td>\n",
       "      <td>fake</td>\n",
       "    </tr>\n",
       "    <tr>\n",
       "      <th>12521</th>\n",
       "      <td>Liver un facebook para cuando andas pedo http:...</td>\n",
       "      <td>fake</td>\n",
       "    </tr>\n",
       "    <tr>\n",
       "      <th>12522</th>\n",
       "      <td>Liver un facebook para cuando andas pedo http:...</td>\n",
       "      <td>fake</td>\n",
       "    </tr>\n",
       "    <tr>\n",
       "      <th>12523</th>\n",
       "      <td>Livr: Social network unlocks features the more...</td>\n",
       "      <td>fake</td>\n",
       "    </tr>\n",
       "    <tr>\n",
       "      <th>12524</th>\n",
       "      <td>#LIVR the social network you can only access w...</td>\n",
       "      <td>fake</td>\n",
       "    </tr>\n",
       "    <tr>\n",
       "      <th>12525</th>\n",
       "      <td>VIDEO: Livr, una app con detector de alcohol &amp;...</td>\n",
       "      <td>fake</td>\n",
       "    </tr>\n",
       "    <tr>\n",
       "      <th>12526</th>\n",
       "      <td>¿Qué se acabó la fiesta? ¡Crean una red social...</td>\n",
       "      <td>fake</td>\n",
       "    </tr>\n",
       "    <tr>\n",
       "      <th>12527</th>\n",
       "      <td>El mundo está loco... una red social que solo ...</td>\n",
       "      <td>fake</td>\n",
       "    </tr>\n",
       "    <tr>\n",
       "      <th>12528</th>\n",
       "      <td>A new fish discovered in Arkansas ( PIGFISH ) ...</td>\n",
       "      <td>fake</td>\n",
       "    </tr>\n",
       "    <tr>\n",
       "      <th>12529</th>\n",
       "      <td>Pigfish http: \\/\\/t.co\\/SKDZvFAx6e</td>\n",
       "      <td>fake</td>\n",
       "    </tr>\n",
       "    <tr>\n",
       "      <th>12530</th>\n",
       "      <td>New species of fish found at Arkansas http: \\/...</td>\n",
       "      <td>fake</td>\n",
       "    </tr>\n",
       "    <tr>\n",
       "      <th>12531</th>\n",
       "      <td>@JRwennies u were right.Meh! And eh wtv that's...</td>\n",
       "      <td>fake</td>\n",
       "    </tr>\n",
       "    <tr>\n",
       "      <th>12532</th>\n",
       "      <td>Southern Alabama pigfish, tastes just like bac...</td>\n",
       "      <td>fake</td>\n",
       "    </tr>\n",
       "    <tr>\n",
       "      <th>12533</th>\n",
       "      <td>*loses all hope for society* \\@snopes: The sno...</td>\n",
       "      <td>fake</td>\n",
       "    </tr>\n",
       "    <tr>\n",
       "      <th>12534</th>\n",
       "      <td>#pig #pigfish #pigg http: \\/\\/t.co\\/DApuPekUBI</td>\n",
       "      <td>fake</td>\n",
       "    </tr>\n",
       "    <tr>\n",
       "      <th>12535</th>\n",
       "      <td>Pigfish http: \\/\\/t.co\\/LOjsI6dCPX</td>\n",
       "      <td>fake</td>\n",
       "    </tr>\n",
       "    <tr>\n",
       "      <th>12536</th>\n",
       "      <td>#pigfish was up http: \\/\\/t.co\\/xCCzla3lmc</td>\n",
       "      <td>fake</td>\n",
       "    </tr>\n",
       "    <tr>\n",
       "      <th>12537</th>\n",
       "      <td>@BobombDom *slaps TweetDeck with the PigFish h...</td>\n",
       "      <td>fake</td>\n",
       "    </tr>\n",
       "    <tr>\n",
       "      <th>12538</th>\n",
       "      <td>New Species of Fish found in Brazil or just Re...</td>\n",
       "      <td>fake</td>\n",
       "    </tr>\n",
       "    <tr>\n",
       "      <th>12539</th>\n",
       "      <td>What do we call this? #pigFISH http: \\/\\/t.co\\...</td>\n",
       "      <td>fake</td>\n",
       "    </tr>\n",
       "    <tr>\n",
       "      <th>12540</th>\n",
       "      <td>Pigfish ? E dopo il pescecane c'è il pesce mai...</td>\n",
       "      <td>fake</td>\n",
       "    </tr>\n",
       "    <tr>\n",
       "      <th>12541</th>\n",
       "      <td>For those who can't decide between fish or mea...</td>\n",
       "      <td>fake</td>\n",
       "    </tr>\n",
       "  </tbody>\n",
       "</table>\n",
       "</div>"
      ],
      "text/plain": [
       "                                               tweetText label\n",
       "12512  MH370 has been found. They are all safe :) htt...  fake\n",
       "12513  MH370 has finally been found!!!! Woot woot!! h...  fake\n",
       "12514  @ZakiEzarik: MH370 found ..LOL http://t.co/MS9...  fake\n",
       "12515           MH370 found ..LOL http://t.co/9rsOdub8oF  fake\n",
       "12516  They found flight MH370!!!!! Lol http://t.co/R...  fake\n",
       "12517  Tak lawak pukimak cibai . \\n\\n“@SYAFIQBAKHARI:...  fake\n",
       "12518  MH370 selamat mendarat dilapangan Batu Berenda...  fake\n",
       "12519  Una aplicación para tener diversión... ¿la usa...  fake\n",
       "12520  Utiliser son iPhone en étant bourré ? LIVR, UN...  fake\n",
       "12521  Liver un facebook para cuando andas pedo http:...  fake\n",
       "12522  Liver un facebook para cuando andas pedo http:...  fake\n",
       "12523  Livr: Social network unlocks features the more...  fake\n",
       "12524  #LIVR the social network you can only access w...  fake\n",
       "12525  VIDEO: Livr, una app con detector de alcohol &...  fake\n",
       "12526  ¿Qué se acabó la fiesta? ¡Crean una red social...  fake\n",
       "12527  El mundo está loco... una red social que solo ...  fake\n",
       "12528  A new fish discovered in Arkansas ( PIGFISH ) ...  fake\n",
       "12529                 Pigfish http: \\/\\/t.co\\/SKDZvFAx6e  fake\n",
       "12530  New species of fish found at Arkansas http: \\/...  fake\n",
       "12531  @JRwennies u were right.Meh! And eh wtv that's...  fake\n",
       "12532  Southern Alabama pigfish, tastes just like bac...  fake\n",
       "12533  *loses all hope for society* \\@snopes: The sno...  fake\n",
       "12534     #pig #pigfish #pigg http: \\/\\/t.co\\/DApuPekUBI  fake\n",
       "12535                 Pigfish http: \\/\\/t.co\\/LOjsI6dCPX  fake\n",
       "12536         #pigfish was up http: \\/\\/t.co\\/xCCzla3lmc  fake\n",
       "12537  @BobombDom *slaps TweetDeck with the PigFish h...  fake\n",
       "12538  New Species of Fish found in Brazil or just Re...  fake\n",
       "12539  What do we call this? #pigFISH http: \\/\\/t.co\\...  fake\n",
       "12540  Pigfish ? E dopo il pescecane c'è il pesce mai...  fake\n",
       "12541  For those who can't decide between fish or mea...  fake"
      ]
     },
     "execution_count": 13,
     "metadata": {},
     "output_type": "execute_result"
    }
   ],
   "source": [
    "# create a new dataframe named truncated_df that consists only of the tweetText and label\n",
    "truncated_df=df.copy()\n",
    "column_names = ['tweetText','label']   \n",
    "for column in truncated_df.columns:\n",
    "  if column not in column_names:\n",
    "    truncated_df.drop(column,axis=1,inplace=True)\n",
    "    \n",
    "truncated_df.tail(30)"
   ]
  },
  {
   "cell_type": "code",
   "execution_count": 14,
   "id": "sought-chosen",
   "metadata": {},
   "outputs": [],
   "source": [
    "# collection of text preprocessing function\n",
    "def emoji_to_text(text):\n",
    "    # Convert emojis to text with underscores\n",
    "    text_with_underscores = emoji.demojize(text)\n",
    "    # Replace underscores with spaces\n",
    "    text_with_spaces = text_with_underscores.replace('_', ' ')\n",
    "    return text_with_spaces\n",
    "\n",
    "def clean_text(text):\n",
    "    text = emoji_to_text(text)  # Transform emojis to text\n",
    "    text = text.lower()  # Convert to lowercase\n",
    "    text = re.sub(r'http.*', ' ', text)  # Remove URLs\n",
    "    text = re.sub(r'@\\S+', ' ', text)  # Remove user @ references\n",
    "    text = re.sub(r'#', '  ', text)  # Remove '#'\n",
    "    text = re.sub(r'[^\\w\\s]', '', text)  # Remove special characters retaining numbers\n",
    "    text = ' '.join([word for word in text.split()])\n",
    "    #text = ' '.join([word for word in text.split() if word not in stopwords.words('english')])  # Remove stopwords\n",
    "    return text\n",
    "\n",
    "def language_translate(text):\n",
    "    text=GoogleTranslator(source='auto',target='en').translate(text)\n",
    "    return text\n",
    "\n",
    "def lemmatization(text):\n",
    "    lemmatizer = WordNetLemmatizer()\n",
    "    return ' '.join(lemmatizer.lemmatize(word) for word in nltk.word_tokenize(text))\n",
    "\n",
    "def remove_stopwords(text):\n",
    "    text = ' '.join([word for word in text.split() if word not in stopwords.words('english')])  # Remove stopwords\n",
    "    return text"
   ]
  },
  {
   "cell_type": "code",
   "execution_count": 15,
   "id": "invisible-wound",
   "metadata": {},
   "outputs": [],
   "source": [
    "#apply text cleaning\n",
    "truncated_df['tweetText']=truncated_df['tweetText'].apply(clean_text)"
   ]
  },
  {
   "cell_type": "code",
   "execution_count": 16,
   "id": "intelligent-quality",
   "metadata": {},
   "outputs": [
    {
     "data": {
      "text/html": [
       "<div>\n",
       "<style scoped>\n",
       "    .dataframe tbody tr th:only-of-type {\n",
       "        vertical-align: middle;\n",
       "    }\n",
       "\n",
       "    .dataframe tbody tr th {\n",
       "        vertical-align: top;\n",
       "    }\n",
       "\n",
       "    .dataframe thead th {\n",
       "        text-align: right;\n",
       "    }\n",
       "</style>\n",
       "<table border=\"1\" class=\"dataframe\">\n",
       "  <thead>\n",
       "    <tr style=\"text-align: right;\">\n",
       "      <th></th>\n",
       "      <th>tweetText</th>\n",
       "      <th>label</th>\n",
       "    </tr>\n",
       "  </thead>\n",
       "  <tbody>\n",
       "    <tr>\n",
       "      <th>12512</th>\n",
       "      <td>mh370 has been found they are all safe</td>\n",
       "      <td>fake</td>\n",
       "    </tr>\n",
       "    <tr>\n",
       "      <th>12513</th>\n",
       "      <td>mh370 has finally been found woot woot</td>\n",
       "      <td>fake</td>\n",
       "    </tr>\n",
       "    <tr>\n",
       "      <th>12514</th>\n",
       "      <td>mh370 found lol</td>\n",
       "      <td>fake</td>\n",
       "    </tr>\n",
       "    <tr>\n",
       "      <th>12515</th>\n",
       "      <td>mh370 found lol</td>\n",
       "      <td>fake</td>\n",
       "    </tr>\n",
       "    <tr>\n",
       "      <th>12516</th>\n",
       "      <td>they found flight mh370 lol</td>\n",
       "      <td>fake</td>\n",
       "    </tr>\n",
       "    <tr>\n",
       "      <th>12517</th>\n",
       "      <td>tak lawak pukimak cibai nn mh370 telah dijumpa...</td>\n",
       "      <td>fake</td>\n",
       "    </tr>\n",
       "    <tr>\n",
       "      <th>12518</th>\n",
       "      <td>mh370 selamat mendarat dilapangan batu berenda...</td>\n",
       "      <td>fake</td>\n",
       "    </tr>\n",
       "    <tr>\n",
       "      <th>12519</th>\n",
       "      <td>una aplicación para tener diversión la usarías</td>\n",
       "      <td>fake</td>\n",
       "    </tr>\n",
       "    <tr>\n",
       "      <th>12520</th>\n",
       "      <td>utiliser son iphone en étant bourré livr une a...</td>\n",
       "      <td>fake</td>\n",
       "    </tr>\n",
       "    <tr>\n",
       "      <th>12521</th>\n",
       "      <td>liver un facebook para cuando andas pedo</td>\n",
       "      <td>fake</td>\n",
       "    </tr>\n",
       "    <tr>\n",
       "      <th>12522</th>\n",
       "      <td>liver un facebook para cuando andas pedo</td>\n",
       "      <td>fake</td>\n",
       "    </tr>\n",
       "    <tr>\n",
       "      <th>12523</th>\n",
       "      <td>livr social network unlocks features the more ...</td>\n",
       "      <td>fake</td>\n",
       "    </tr>\n",
       "    <tr>\n",
       "      <th>12524</th>\n",
       "      <td>livr the social network you can only access wh...</td>\n",
       "      <td>fake</td>\n",
       "    </tr>\n",
       "    <tr>\n",
       "      <th>12525</th>\n",
       "      <td>video livr una app con detector de alcohol gtgt</td>\n",
       "      <td>fake</td>\n",
       "    </tr>\n",
       "    <tr>\n",
       "      <th>12526</th>\n",
       "      <td>qué se acabó la fiesta crean una red social pa...</td>\n",
       "      <td>fake</td>\n",
       "    </tr>\n",
       "    <tr>\n",
       "      <th>12527</th>\n",
       "      <td>el mundo está loco una red social que solo te ...</td>\n",
       "      <td>fake</td>\n",
       "    </tr>\n",
       "    <tr>\n",
       "      <th>12528</th>\n",
       "      <td>a new fish discovered in arkansas pigfish</td>\n",
       "      <td>fake</td>\n",
       "    </tr>\n",
       "    <tr>\n",
       "      <th>12529</th>\n",
       "      <td>pigfish</td>\n",
       "      <td>fake</td>\n",
       "    </tr>\n",
       "    <tr>\n",
       "      <th>12530</th>\n",
       "      <td>new species of fish found at arkansas</td>\n",
       "      <td>fake</td>\n",
       "    </tr>\n",
       "    <tr>\n",
       "      <th>12531</th>\n",
       "      <td>u were rightmeh and eh wtv thats botherin u rm...</td>\n",
       "      <td>fake</td>\n",
       "    </tr>\n",
       "    <tr>\n",
       "      <th>12532</th>\n",
       "      <td>southern alabama pigfish tastes just like bacon</td>\n",
       "      <td>fake</td>\n",
       "    </tr>\n",
       "    <tr>\n",
       "      <th>12533</th>\n",
       "      <td>loses all hope for society the snouted pigfish...</td>\n",
       "      <td>fake</td>\n",
       "    </tr>\n",
       "    <tr>\n",
       "      <th>12534</th>\n",
       "      <td>pig pigfish pigg</td>\n",
       "      <td>fake</td>\n",
       "    </tr>\n",
       "    <tr>\n",
       "      <th>12535</th>\n",
       "      <td>pigfish</td>\n",
       "      <td>fake</td>\n",
       "    </tr>\n",
       "    <tr>\n",
       "      <th>12536</th>\n",
       "      <td>pigfish was up</td>\n",
       "      <td>fake</td>\n",
       "    </tr>\n",
       "    <tr>\n",
       "      <th>12537</th>\n",
       "      <td>slaps tweetdeck with the pigfish</td>\n",
       "      <td>fake</td>\n",
       "    </tr>\n",
       "    <tr>\n",
       "      <th>12538</th>\n",
       "      <td>new species of fish found in brazil or just re...</td>\n",
       "      <td>fake</td>\n",
       "    </tr>\n",
       "    <tr>\n",
       "      <th>12539</th>\n",
       "      <td>what do we call this pigfish</td>\n",
       "      <td>fake</td>\n",
       "    </tr>\n",
       "    <tr>\n",
       "      <th>12540</th>\n",
       "      <td>pigfish e dopo il pescecane cè il pesce maiale</td>\n",
       "      <td>fake</td>\n",
       "    </tr>\n",
       "    <tr>\n",
       "      <th>12541</th>\n",
       "      <td>for those who cant decide between fish or meat...</td>\n",
       "      <td>fake</td>\n",
       "    </tr>\n",
       "  </tbody>\n",
       "</table>\n",
       "</div>"
      ],
      "text/plain": [
       "                                               tweetText label\n",
       "12512             mh370 has been found they are all safe  fake\n",
       "12513             mh370 has finally been found woot woot  fake\n",
       "12514                                    mh370 found lol  fake\n",
       "12515                                    mh370 found lol  fake\n",
       "12516                        they found flight mh370 lol  fake\n",
       "12517  tak lawak pukimak cibai nn mh370 telah dijumpa...  fake\n",
       "12518  mh370 selamat mendarat dilapangan batu berenda...  fake\n",
       "12519     una aplicación para tener diversión la usarías  fake\n",
       "12520  utiliser son iphone en étant bourré livr une a...  fake\n",
       "12521           liver un facebook para cuando andas pedo  fake\n",
       "12522           liver un facebook para cuando andas pedo  fake\n",
       "12523  livr social network unlocks features the more ...  fake\n",
       "12524  livr the social network you can only access wh...  fake\n",
       "12525    video livr una app con detector de alcohol gtgt  fake\n",
       "12526  qué se acabó la fiesta crean una red social pa...  fake\n",
       "12527  el mundo está loco una red social que solo te ...  fake\n",
       "12528          a new fish discovered in arkansas pigfish  fake\n",
       "12529                                            pigfish  fake\n",
       "12530              new species of fish found at arkansas  fake\n",
       "12531  u were rightmeh and eh wtv thats botherin u rm...  fake\n",
       "12532    southern alabama pigfish tastes just like bacon  fake\n",
       "12533  loses all hope for society the snouted pigfish...  fake\n",
       "12534                                   pig pigfish pigg  fake\n",
       "12535                                            pigfish  fake\n",
       "12536                                     pigfish was up  fake\n",
       "12537                   slaps tweetdeck with the pigfish  fake\n",
       "12538  new species of fish found in brazil or just re...  fake\n",
       "12539                       what do we call this pigfish  fake\n",
       "12540     pigfish e dopo il pescecane cè il pesce maiale  fake\n",
       "12541  for those who cant decide between fish or meat...  fake"
      ]
     },
     "execution_count": 16,
     "metadata": {},
     "output_type": "execute_result"
    }
   ],
   "source": [
    "#check for the last 30 items in truncated_df dataframe\n",
    "truncated_df.tail(30)"
   ]
  },
  {
   "cell_type": "code",
   "execution_count": 17,
   "id": "clinical-movie",
   "metadata": {},
   "outputs": [
    {
     "name": "stdout",
     "output_type": "stream",
     "text": [
      "{'by', 'himself', 'are', 'ours', 'very', 'over', 'after', 'doing', 'aren', 'yourself', 'am', 'between', 'can', \"didn't\", 'your', 'all', 've', 'myself', 'hadn', 'against', \"you'd\", \"aren't\", \"you'll\", 'not', 'themselves', 'should', 'both', 'won', 'the', 'o', 'once', 'it', \"shan't\", 'who', 'where', 'has', 'i', 'is', 'don', 'haven', 'needn', 'herself', 'were', 'theirs', 'but', 'isn', 'in', \"don't\", 'own', 'shouldn', 'now', 'to', 'such', 'just', 'from', 'its', 'll', 'she', \"needn't\", 'shan', \"you've\", 'yours', 'they', 'those', \"should've\", 'her', 'been', 'until', 'few', \"wasn't\", 'that', \"mightn't\", 'ma', 'be', 'our', 'have', 'other', 'hasn', 'we', \"wouldn't\", 'wasn', 'again', \"you're\", 'mustn', 're', 'was', 'with', \"she's\", 'do', 'whom', 'their', 'off', 'what', 'which', 'hers', 'before', 'when', 'about', \"hasn't\", 'below', 'up', 'wouldn', 'he', 'his', 'most', 'here', 'd', 'an', 'then', 'more', 'mightn', \"haven't\", 'him', 's', \"weren't\", 'too', 'me', 'had', \"isn't\", 'itself', 'through', 'or', 'than', 'them', 'ourselves', \"hadn't\", 'of', 'on', 't', 'out', \"doesn't\", 'at', \"that'll\", 'nor', \"won't\", 'yourselves', 'because', 'for', 'and', 'so', 'being', 'having', 'couldn', 'further', 'some', 'any', 'will', 'this', 'y', \"shouldn't\", 'didn', 'doesn', 'did', 'my', 'each', 'same', 'why', 'down', 'does', 'you', 'into', 'under', 'these', 'during', 'no', \"couldn't\", \"mustn't\", 'weren', 'm', 'a', 'there', \"it's\", 'above', 'ain', 'how', 'if', 'as', 'only', 'while'}\n"
     ]
    }
   ],
   "source": [
    "# list all the stopwords\n",
    "stops = set(stopwords.words('english'))\n",
    "print(stops)"
   ]
  },
  {
   "cell_type": "code",
   "execution_count": 18,
   "id": "powered-purple",
   "metadata": {},
   "outputs": [],
   "source": [
    "# apply lemmatisation and stopwords removal\n",
    "truncated_df['tweetText']=truncated_df['tweetText'].apply(lambda text:text.lower())\n",
    "truncated_df['tweetText']=truncated_df['tweetText'].apply(lemmatization)\n",
    "truncated_df['tweetText']=truncated_df['tweetText'].apply(remove_stopwords)\n"
   ]
  },
  {
   "cell_type": "code",
   "execution_count": 19,
   "id": "active-reserve",
   "metadata": {},
   "outputs": [
    {
     "data": {
      "text/plain": [
       "Text(0, 0.5, 'Total count')"
      ]
     },
     "execution_count": 19,
     "metadata": {},
     "output_type": "execute_result"
    },
    {
     "data": {
      "image/png": "[encoded data removed]",
      "text/plain": [
       "<Figure size 720x432 with 1 Axes>"
      ]
     },
     "metadata": {
      "needs_background": "light"
     },
     "output_type": "display_data"
    }
   ],
   "source": [
    "# plot the sentence length distribution\n",
    "\n",
    "sentence_length = list()\n",
    "\n",
    "def check_sentence_length(corpus):\n",
    "    for sentence in corpus:\n",
    "        sentence_length.append(len(sentence.split()))\n",
    "\n",
    "check_sentence_length(truncated_df['tweetText'])\n",
    "plt.figure(figsize=(10, 6))\n",
    "plt.hist(sentence_length, bins=np.arange(min(sentence_length), max(sentence_length)),edgecolor='black',color='orange')\n",
    "plt.title('Tweet Text Length Distribution')\n",
    "plt.xlabel('Length')\n",
    "plt.ylabel('Total count')"
   ]
  },
  {
   "cell_type": "code",
   "execution_count": 20,
   "id": "arbitrary-swift",
   "metadata": {},
   "outputs": [
    {
     "name": "stdout",
     "output_type": "stream",
     "text": [
      "[1 1 1 ... 1 1 1]\n"
     ]
    }
   ],
   "source": [
    "# perform label encoding on the labels and define X_train and y_train\n",
    "label_encoder=LabelEncoder()\n",
    "Y=truncated_df['label']\n",
    "label_encoder.fit(Y)\n",
    "label_encoder.classes_ = label_encoder.classes_[::-1]  #invert class such that fake class correspond to 1, real class corresppond to 0\n",
    "y_train = label_encoder.transform(Y)\n",
    "X_train = truncated_df['tweetText']\n",
    "truncated_df['encodedLabel']= y_train\n",
    "print(y_train)"
   ]
  },
  {
   "cell_type": "code",
   "execution_count": 21,
   "id": "anticipated-context",
   "metadata": {},
   "outputs": [
    {
     "data": {
      "image/png": "[encoded data removed]",
      "text/plain": [
       "<Figure size 432x288 with 1 Axes>"
      ]
     },
     "metadata": {
      "needs_background": "light"
     },
     "output_type": "display_data"
    }
   ],
   "source": [
    "#plot word count plot showing the total occurence of each word\n",
    "def wordCountplot(X_train):\n",
    "    corpus_dict=dict()\n",
    "    for sentence in X_train:\n",
    "        for word in sentence.split():\n",
    "            if word not in corpus_dict.keys():\n",
    "                corpus_dict[word]=1\n",
    "            else:\n",
    "                corpus_dict[word]=corpus_dict[word]+1\n",
    "                \n",
    "    corpus=list()\n",
    "    frequency=list()\n",
    "\n",
    "    sorted_dict = sorted(corpus_dict.items(), key=lambda x:x[1],reverse=True )\n",
    "    for keyValue in sorted_dict:\n",
    "        word,wordCount = keyValue\n",
    "        corpus.append(word)\n",
    "        frequency.append(wordCount)\n",
    "        \n",
    "    sns.barplot(x=frequency[:10],y=corpus[:10])\n",
    "    plt.title('Word Count Plot')\n",
    "    plt.xlabel('Word Count')\n",
    "    plt.ylabel('Word')\n",
    "\n",
    "wordCountplot(X_train)"
   ]
  },
  {
   "cell_type": "code",
   "execution_count": 22,
   "id": "blocked-closer",
   "metadata": {},
   "outputs": [
    {
     "data": {
      "image/png": "[encoded data removed]",
      "text/plain": [
       "<Figure size 432x288 with 1 Axes>"
      ]
     },
     "metadata": {},
     "output_type": "display_data"
    }
   ],
   "source": [
    "# perform SMOTE\n",
    "\n",
    "# vectorise text sentences into vector representation\n",
    "vectorizer = CountVectorizer()\n",
    "X_train_vect = vectorizer.fit_transform(X_train)\n",
    "X_train_vect = X_train_vect.toarray()\n",
    "\n",
    "# apply SMOTE algorithm to the vector representation\n",
    "smote = SMOTE(random_state=42)\n",
    "X_train_smote, y_train_smote = smote.fit_resample(X_train_vect, y_train)\n",
    "\n",
    "# Transform back to text representation\n",
    "X_train_smote_text = vectorizer.inverse_transform(X_train_smote)\n",
    "\n",
    "# join the words together to get back text sentences\n",
    "X_train_smote_text = [\" \".join(doc) for doc in X_train_smote_text]\n",
    "\n",
    "# plot pie chart showing the distribution of each class\n",
    "plt.pie(pd.value_counts(y_train_smote),\n",
    "        labels=['Label 1 (fake)', 'Label 0 (real)'],\n",
    "        autopct='%0.1f%%')\n",
    "plt.axis('equal')\n",
    "plt.show()"
   ]
  },
  {
   "cell_type": "code",
   "execution_count": 23,
   "id": "minus-frame",
   "metadata": {},
   "outputs": [
    {
     "name": "stdout",
     "output_type": "stream",
     "text": [
      "[[ 0.01409476  0.03766996 -0.0106725  ...  0.08241136 -0.0092758\n",
      "  -0.03218764]\n",
      " [ 0.00465234  0.01884863  0.01465559 ...  0.06709281 -0.03373781\n",
      "   0.00674749]\n",
      " [ 0.03081443  0.03713534  0.03735477 ...  0.03761739 -0.07212203\n",
      "  -0.02399893]\n",
      " ...\n",
      " [-0.00222974 -0.00704658 -0.02832248 ... -0.00493244  0.01109471\n",
      "  -0.0069859 ]\n",
      " [ 0.01948671  0.06916212  0.01219451 ...  0.04371995  0.04654327\n",
      "  -0.06907506]\n",
      " [ 0.00351589 -0.00452263 -0.02420383 ... -0.00200538  0.02438565\n",
      "  -0.00184693]]\n"
     ]
    }
   ],
   "source": [
    "# define sentence transformer. The model is from Huggingface\n",
    "encoder = SentenceTransformer('sentence-transformers/all-MiniLM-L6-v2')\n",
    "embeddings = encoder.encode(X_train)\n",
    "print(embeddings)"
   ]
  },
  {
   "cell_type": "markdown",
   "id": "nutritional-facing",
   "metadata": {},
   "source": [
    "# Test sentence embedding encoder"
   ]
  },
  {
   "cell_type": "code",
   "execution_count": 24,
   "id": "intelligent-offer",
   "metadata": {},
   "outputs": [
    {
     "name": "stdout",
     "output_type": "stream",
     "text": [
      "[[0.937881]]\n",
      "[[0.4533031]]\n",
      "[[0.17820051]]\n"
     ]
    }
   ],
   "source": [
    "#define some text samples\n",
    "sentence1=\"I am very happy\"\n",
    "sentence2=\"I am extremely happy\"\n",
    "sentence3=\"I am very sad\"\n",
    "sentence4=\" I am nervous of tomorrow exam\"\n",
    "\n",
    "#encode each samples into vector representation\n",
    "embedding1=encoder.encode(sentence1).reshape(1,-1)\n",
    "embedding2=encoder.encode(sentence2).reshape(1,-1)\n",
    "embedding3=encoder.encode(sentence3).reshape(1,-1)\n",
    "embedding4=encoder.encode(sentence4).reshape(1,-1)\n",
    "\n",
    "#calculate cosine similairy \n",
    "similarity_score1 = cosine_similarity(embedding1,embedding2)\n",
    "similarity_score2 = cosine_similarity(embedding1,embedding3)\n",
    "similarity_score3 = cosine_similarity(embedding1,embedding4)\n",
    "print(similarity_score1)\n",
    "print(similarity_score2)\n",
    "print(similarity_score3)"
   ]
  },
  {
   "cell_type": "code",
   "execution_count": 25,
   "id": "bearing-northern",
   "metadata": {},
   "outputs": [
    {
     "name": "stdout",
     "output_type": "stream",
     "text": [
      "[[-0.4307663  -0.21864817]\n",
      " [-0.42557785 -0.24082315]\n",
      " [ 0.01740259  0.7086029 ]\n",
      " [ 0.83894145 -0.2491316 ]]\n"
     ]
    }
   ],
   "source": [
    "# reduce to 2-dimension for visualisation\n",
    "\n",
    "pca = PCA(n_components=2)\n",
    "embeddingCombine1 = np.array([embedding1,embedding2,embedding3,embedding4])\n",
    "embeddingCombine1 = embeddingCombine1.squeeze()\n",
    "\n",
    "embeddings2D = pca.fit_transform(embeddingCombine1)\n",
    "print(embeddings2D)\n"
   ]
  },
  {
   "cell_type": "code",
   "execution_count": 26,
   "id": "french-flush",
   "metadata": {},
   "outputs": [
    {
     "data": {
      "text/plain": [
       "Text(0.83894145, -0.2491316, ' I am nervous of tomorrow exam')"
      ]
     },
     "execution_count": 26,
     "metadata": {},
     "output_type": "execute_result"
    },
    {
     "data": {
      "image/png": "[encoded data removed]",
      "text/plain": [
       "<Figure size 720x576 with 1 Axes>"
      ]
     },
     "metadata": {
      "needs_background": "light"
     },
     "output_type": "display_data"
    }
   ],
   "source": [
    "#plot the sentence embedding space\n",
    "plt.figure(figsize=(10, 8))\n",
    "plt.scatter(embeddings2D[0, 0], embeddings2D[0, 1])\n",
    "plt.scatter(embeddings2D[1, 0], embeddings2D[1, 1])\n",
    "plt.scatter(embeddings2D[2, 0], embeddings2D[2, 1])\n",
    "plt.scatter(embeddings2D[3, 0], embeddings2D[3, 1])\n",
    "plt.xlim(-1, 1)\n",
    "plt.ylim(-1, 1)\n",
    "plt.xlabel('Principal Component 1')\n",
    "plt.ylabel('Principal Component 2')\n",
    "plt.title('Sentence Embedding Space')\n",
    "plt.grid(True)\n",
    "plt.gca().set_aspect('equal', adjustable='box')\n",
    "\n",
    "plt.text(embeddings2D[0,0],embeddings2D[0,1]+0.05,sentence1)\n",
    "plt.text(embeddings2D[1,0],embeddings2D[1,1]-0.05,sentence2)\n",
    "plt.text(embeddings2D[2,0],embeddings2D[2,1],sentence3)\n",
    "plt.text(embeddings2D[3,0],embeddings2D[3,1],sentence4)"
   ]
  },
  {
   "cell_type": "code",
   "execution_count": 27,
   "id": "polished-asbestos",
   "metadata": {},
   "outputs": [
    {
     "data": {
      "text/plain": [
       "'\\nSVMpipeline = Pipeline([\\n    (\\'model\\', SVC(random_state=42))\\n])\\n\\nparam_grid = {\\n    \\'model__C\\': [0.1, 1, 10],  # Example C values, adjust based on your data\\n    \\'model__kernel\\': [\\'linear\\', \\'rbf\\', \\'poly\\', \\'sigmoid\\'],  # Kernel types to try\\n    \\'model__gamma\\': [\\'scale\\',\\'auto\\']\\n}\\n\\n# Initialize GridSearchCV with the pipeline and the parameter grid\\ngrid_search = GridSearchCV(SVMpipeline,param_grid, cv=5, verbose=1, n_jobs=-1)\\n\\n# Perform the grid search with your data\\ngrid_search.fit(embeddings, y_train)\\n\\n# Best parameter set found:\\nprint(\"Best parameters found: \", grid_search.best_params_)\\n\\n# Best estimator:\\nprint(\"Best estimator: \", grid_search.best_estimator_)\\n'"
      ]
     },
     "execution_count": 27,
     "metadata": {},
     "output_type": "execute_result"
    }
   ],
   "source": [
    "'''\n",
    "SVMpipeline = Pipeline([\n",
    "    ('model', SVC(random_state=42))\n",
    "])\n",
    "\n",
    "param_grid = {\n",
    "    'model__C': [0.1, 1, 10],  # Example C values, adjust based on your data\n",
    "    'model__kernel': ['linear', 'rbf', 'poly', 'sigmoid'],  # Kernel types to try\n",
    "    'model__gamma': ['scale','auto']\n",
    "}\n",
    "\n",
    "# Initialize GridSearchCV with the pipeline and the parameter grid\n",
    "grid_search = GridSearchCV(SVMpipeline,param_grid, cv=5, verbose=1, n_jobs=-1)\n",
    "\n",
    "# Perform the grid search with your data\n",
    "grid_search.fit(embeddings, y_train)\n",
    "\n",
    "# Best parameter set found:\n",
    "print(\"Best parameters found: \", grid_search.best_params_)\n",
    "\n",
    "# Best estimator:\n",
    "print(\"Best estimator: \", grid_search.best_estimator_)\n",
    "'''\n"
   ]
  },
  {
   "cell_type": "markdown",
   "id": "other-booth",
   "metadata": {},
   "source": [
    "# Model Training"
   ]
  },
  {
   "cell_type": "markdown",
   "id": "hollywood-porcelain",
   "metadata": {},
   "source": [
    "# First Design Iteration (TF-IDF vectorisation without SMOTE)"
   ]
  },
  {
   "cell_type": "code",
   "execution_count": 28,
   "id": "advised-cargo",
   "metadata": {},
   "outputs": [
    {
     "data": {
      "text/html": [
       "<style>#sk-container-id-1 {color: black;}#sk-container-id-1 pre{padding: 0;}#sk-container-id-1 div.sk-toggleable {background-color: white;}#sk-container-id-1 label.sk-toggleable__label {cursor: pointer;display: block;width: 100%;margin-bottom: 0;padding: 0.3em;box-sizing: border-box;text-align: center;}#sk-container-id-1 label.sk-toggleable__label-arrow:before {content: \"▸\";float: left;margin-right: 0.25em;color: #696969;}#sk-container-id-1 label.sk-toggleable__label-arrow:hover:before {color: black;}#sk-container-id-1 div.sk-estimator:hover label.sk-toggleable__label-arrow:before {color: black;}#sk-container-id-1 div.sk-toggleable__content {max-height: 0;max-width: 0;overflow: hidden;text-align: left;background-color: #f0f8ff;}#sk-container-id-1 div.sk-toggleable__content pre {margin: 0.2em;color: black;border-radius: 0.25em;background-color: #f0f8ff;}#sk-container-id-1 input.sk-toggleable__control:checked~div.sk-toggleable__content {max-height: 200px;max-width: 100%;overflow: auto;}#sk-container-id-1 input.sk-toggleable__control:checked~label.sk-toggleable__label-arrow:before {content: \"▾\";}#sk-container-id-1 div.sk-estimator input.sk-toggleable__control:checked~label.sk-toggleable__label {background-color: #d4ebff;}#sk-container-id-1 div.sk-label input.sk-toggleable__control:checked~label.sk-toggleable__label {background-color: #d4ebff;}#sk-container-id-1 input.sk-hidden--visually {border: 0;clip: rect(1px 1px 1px 1px);clip: rect(1px, 1px, 1px, 1px);height: 1px;margin: -1px;overflow: hidden;padding: 0;position: absolute;width: 1px;}#sk-container-id-1 div.sk-estimator {font-family: monospace;background-color: #f0f8ff;border: 1px dotted black;border-radius: 0.25em;box-sizing: border-box;margin-bottom: 0.5em;}#sk-container-id-1 div.sk-estimator:hover {background-color: #d4ebff;}#sk-container-id-1 div.sk-parallel-item::after {content: \"\";width: 100%;border-bottom: 1px solid gray;flex-grow: 1;}#sk-container-id-1 div.sk-label:hover label.sk-toggleable__label {background-color: #d4ebff;}#sk-container-id-1 div.sk-serial::before {content: \"\";position: absolute;border-left: 1px solid gray;box-sizing: border-box;top: 0;bottom: 0;left: 50%;z-index: 0;}#sk-container-id-1 div.sk-serial {display: flex;flex-direction: column;align-items: center;background-color: white;padding-right: 0.2em;padding-left: 0.2em;position: relative;}#sk-container-id-1 div.sk-item {position: relative;z-index: 1;}#sk-container-id-1 div.sk-parallel {display: flex;align-items: stretch;justify-content: center;background-color: white;position: relative;}#sk-container-id-1 div.sk-item::before, #sk-container-id-1 div.sk-parallel-item::before {content: \"\";position: absolute;border-left: 1px solid gray;box-sizing: border-box;top: 0;bottom: 0;left: 50%;z-index: -1;}#sk-container-id-1 div.sk-parallel-item {display: flex;flex-direction: column;z-index: 1;position: relative;background-color: white;}#sk-container-id-1 div.sk-parallel-item:first-child::after {align-self: flex-end;width: 50%;}#sk-container-id-1 div.sk-parallel-item:last-child::after {align-self: flex-start;width: 50%;}#sk-container-id-1 div.sk-parallel-item:only-child::after {width: 0;}#sk-container-id-1 div.sk-dashed-wrapped {border: 1px dashed gray;margin: 0 0.4em 0.5em 0.4em;box-sizing: border-box;padding-bottom: 0.4em;background-color: white;}#sk-container-id-1 div.sk-label label {font-family: monospace;font-weight: bold;display: inline-block;line-height: 1.2em;}#sk-container-id-1 div.sk-label-container {text-align: center;}#sk-container-id-1 div.sk-container {/* jupyter's `normalize.less` sets `[hidden] { display: none; }` but bootstrap.min.css set `[hidden] { display: none !important; }` so we also need the `!important` here to be able to override the default hidden behavior on the sphinx rendered scikit-learn.org. See: https://github.com/scikit-learn/scikit-learn/issues/21755 */display: inline-block !important;position: relative;}#sk-container-id-1 div.sk-text-repr-fallback {display: none;}</style><div id=\"sk-container-id-1\" class=\"sk-top-container\"><div class=\"sk-text-repr-fallback\"><pre>Pipeline(steps=[(&#x27;tfidf&#x27;, TfidfVectorizer()),\n",
       "                (&#x27;rf&#x27;,\n",
       "                 RandomForestClassifier(criterion=&#x27;entropy&#x27;, random_state=42))])</pre><b>In a Jupyter environment, please rerun this cell to show the HTML representation or trust the notebook. <br />On GitHub, the HTML representation is unable to render, please try loading this page with nbviewer.org.</b></div><div class=\"sk-container\" hidden><div class=\"sk-item sk-dashed-wrapped\"><div class=\"sk-label-container\"><div class=\"sk-label sk-toggleable\"><input class=\"sk-toggleable__control sk-hidden--visually\" id=\"sk-estimator-id-1\" type=\"checkbox\" ><label for=\"sk-estimator-id-1\" class=\"sk-toggleable__label sk-toggleable__label-arrow\">Pipeline</label><div class=\"sk-toggleable__content\"><pre>Pipeline(steps=[(&#x27;tfidf&#x27;, TfidfVectorizer()),\n",
       "                (&#x27;rf&#x27;,\n",
       "                 RandomForestClassifier(criterion=&#x27;entropy&#x27;, random_state=42))])</pre></div></div></div><div class=\"sk-serial\"><div class=\"sk-item\"><div class=\"sk-estimator sk-toggleable\"><input class=\"sk-toggleable__control sk-hidden--visually\" id=\"sk-estimator-id-2\" type=\"checkbox\" ><label for=\"sk-estimator-id-2\" class=\"sk-toggleable__label sk-toggleable__label-arrow\">TfidfVectorizer</label><div class=\"sk-toggleable__content\"><pre>TfidfVectorizer()</pre></div></div></div><div class=\"sk-item\"><div class=\"sk-estimator sk-toggleable\"><input class=\"sk-toggleable__control sk-hidden--visually\" id=\"sk-estimator-id-3\" type=\"checkbox\" ><label for=\"sk-estimator-id-3\" class=\"sk-toggleable__label sk-toggleable__label-arrow\">RandomForestClassifier</label><div class=\"sk-toggleable__content\"><pre>RandomForestClassifier(criterion=&#x27;entropy&#x27;, random_state=42)</pre></div></div></div></div></div></div></div>"
      ],
      "text/plain": [
       "Pipeline(steps=[('tfidf', TfidfVectorizer()),\n",
       "                ('rf',\n",
       "                 RandomForestClassifier(criterion='entropy', random_state=42))])"
      ]
     },
     "execution_count": 28,
     "metadata": {},
     "output_type": "execute_result"
    }
   ],
   "source": [
    "#Random Forest with TF-IDF\n",
    "pipeline1 = Pipeline([\n",
    "    ('tfidf', TfidfVectorizer(ngram_range=(1, 1))),\n",
    "    ('rf',RandomForestClassifier(random_state=42,n_estimators=100,criterion='entropy'))\n",
    "])\n",
    "\n",
    "pipeline1.fit(X_train,y_train)"
   ]
  },
  {
   "cell_type": "code",
   "execution_count": 29,
   "id": "baking-springfield",
   "metadata": {},
   "outputs": [
    {
     "data": {
      "text/html": [
       "<style>#sk-container-id-2 {color: black;}#sk-container-id-2 pre{padding: 0;}#sk-container-id-2 div.sk-toggleable {background-color: white;}#sk-container-id-2 label.sk-toggleable__label {cursor: pointer;display: block;width: 100%;margin-bottom: 0;padding: 0.3em;box-sizing: border-box;text-align: center;}#sk-container-id-2 label.sk-toggleable__label-arrow:before {content: \"▸\";float: left;margin-right: 0.25em;color: #696969;}#sk-container-id-2 label.sk-toggleable__label-arrow:hover:before {color: black;}#sk-container-id-2 div.sk-estimator:hover label.sk-toggleable__label-arrow:before {color: black;}#sk-container-id-2 div.sk-toggleable__content {max-height: 0;max-width: 0;overflow: hidden;text-align: left;background-color: #f0f8ff;}#sk-container-id-2 div.sk-toggleable__content pre {margin: 0.2em;color: black;border-radius: 0.25em;background-color: #f0f8ff;}#sk-container-id-2 input.sk-toggleable__control:checked~div.sk-toggleable__content {max-height: 200px;max-width: 100%;overflow: auto;}#sk-container-id-2 input.sk-toggleable__control:checked~label.sk-toggleable__label-arrow:before {content: \"▾\";}#sk-container-id-2 div.sk-estimator input.sk-toggleable__control:checked~label.sk-toggleable__label {background-color: #d4ebff;}#sk-container-id-2 div.sk-label input.sk-toggleable__control:checked~label.sk-toggleable__label {background-color: #d4ebff;}#sk-container-id-2 input.sk-hidden--visually {border: 0;clip: rect(1px 1px 1px 1px);clip: rect(1px, 1px, 1px, 1px);height: 1px;margin: -1px;overflow: hidden;padding: 0;position: absolute;width: 1px;}#sk-container-id-2 div.sk-estimator {font-family: monospace;background-color: #f0f8ff;border: 1px dotted black;border-radius: 0.25em;box-sizing: border-box;margin-bottom: 0.5em;}#sk-container-id-2 div.sk-estimator:hover {background-color: #d4ebff;}#sk-container-id-2 div.sk-parallel-item::after {content: \"\";width: 100%;border-bottom: 1px solid gray;flex-grow: 1;}#sk-container-id-2 div.sk-label:hover label.sk-toggleable__label {background-color: #d4ebff;}#sk-container-id-2 div.sk-serial::before {content: \"\";position: absolute;border-left: 1px solid gray;box-sizing: border-box;top: 0;bottom: 0;left: 50%;z-index: 0;}#sk-container-id-2 div.sk-serial {display: flex;flex-direction: column;align-items: center;background-color: white;padding-right: 0.2em;padding-left: 0.2em;position: relative;}#sk-container-id-2 div.sk-item {position: relative;z-index: 1;}#sk-container-id-2 div.sk-parallel {display: flex;align-items: stretch;justify-content: center;background-color: white;position: relative;}#sk-container-id-2 div.sk-item::before, #sk-container-id-2 div.sk-parallel-item::before {content: \"\";position: absolute;border-left: 1px solid gray;box-sizing: border-box;top: 0;bottom: 0;left: 50%;z-index: -1;}#sk-container-id-2 div.sk-parallel-item {display: flex;flex-direction: column;z-index: 1;position: relative;background-color: white;}#sk-container-id-2 div.sk-parallel-item:first-child::after {align-self: flex-end;width: 50%;}#sk-container-id-2 div.sk-parallel-item:last-child::after {align-self: flex-start;width: 50%;}#sk-container-id-2 div.sk-parallel-item:only-child::after {width: 0;}#sk-container-id-2 div.sk-dashed-wrapped {border: 1px dashed gray;margin: 0 0.4em 0.5em 0.4em;box-sizing: border-box;padding-bottom: 0.4em;background-color: white;}#sk-container-id-2 div.sk-label label {font-family: monospace;font-weight: bold;display: inline-block;line-height: 1.2em;}#sk-container-id-2 div.sk-label-container {text-align: center;}#sk-container-id-2 div.sk-container {/* jupyter's `normalize.less` sets `[hidden] { display: none; }` but bootstrap.min.css set `[hidden] { display: none !important; }` so we also need the `!important` here to be able to override the default hidden behavior on the sphinx rendered scikit-learn.org. See: https://github.com/scikit-learn/scikit-learn/issues/21755 */display: inline-block !important;position: relative;}#sk-container-id-2 div.sk-text-repr-fallback {display: none;}</style><div id=\"sk-container-id-2\" class=\"sk-top-container\"><div class=\"sk-text-repr-fallback\"><pre>Pipeline(steps=[(&#x27;tfidf&#x27;, TfidfVectorizer()),\n",
       "                (&#x27;svc&#x27;, SVC(C=1, probability=True, random_state=42))])</pre><b>In a Jupyter environment, please rerun this cell to show the HTML representation or trust the notebook. <br />On GitHub, the HTML representation is unable to render, please try loading this page with nbviewer.org.</b></div><div class=\"sk-container\" hidden><div class=\"sk-item sk-dashed-wrapped\"><div class=\"sk-label-container\"><div class=\"sk-label sk-toggleable\"><input class=\"sk-toggleable__control sk-hidden--visually\" id=\"sk-estimator-id-4\" type=\"checkbox\" ><label for=\"sk-estimator-id-4\" class=\"sk-toggleable__label sk-toggleable__label-arrow\">Pipeline</label><div class=\"sk-toggleable__content\"><pre>Pipeline(steps=[(&#x27;tfidf&#x27;, TfidfVectorizer()),\n",
       "                (&#x27;svc&#x27;, SVC(C=1, probability=True, random_state=42))])</pre></div></div></div><div class=\"sk-serial\"><div class=\"sk-item\"><div class=\"sk-estimator sk-toggleable\"><input class=\"sk-toggleable__control sk-hidden--visually\" id=\"sk-estimator-id-5\" type=\"checkbox\" ><label for=\"sk-estimator-id-5\" class=\"sk-toggleable__label sk-toggleable__label-arrow\">TfidfVectorizer</label><div class=\"sk-toggleable__content\"><pre>TfidfVectorizer()</pre></div></div></div><div class=\"sk-item\"><div class=\"sk-estimator sk-toggleable\"><input class=\"sk-toggleable__control sk-hidden--visually\" id=\"sk-estimator-id-6\" type=\"checkbox\" ><label for=\"sk-estimator-id-6\" class=\"sk-toggleable__label sk-toggleable__label-arrow\">SVC</label><div class=\"sk-toggleable__content\"><pre>SVC(C=1, probability=True, random_state=42)</pre></div></div></div></div></div></div></div>"
      ],
      "text/plain": [
       "Pipeline(steps=[('tfidf', TfidfVectorizer()),\n",
       "                ('svc', SVC(C=1, probability=True, random_state=42))])"
      ]
     },
     "execution_count": 29,
     "metadata": {},
     "output_type": "execute_result"
    }
   ],
   "source": [
    "#SVM with TF-IDF\n",
    "pipeline2 = Pipeline([\n",
    "    ('tfidf', TfidfVectorizer(ngram_range=(1, 1))),\n",
    "   ('svc', SVC(probability=True,C=1,kernel='rbf',gamma='scale', random_state=42))\n",
    "])\n",
    "\n",
    "pipeline2.fit(X_train,y_train)"
   ]
  },
  {
   "cell_type": "markdown",
   "id": "brief-trader",
   "metadata": {},
   "source": [
    "# Second Design Iteration (Sentence Embedding without SMOTE)"
   ]
  },
  {
   "cell_type": "code",
   "execution_count": 30,
   "id": "alive-elder",
   "metadata": {},
   "outputs": [
    {
     "data": {
      "text/html": [
       "<style>#sk-container-id-3 {color: black;}#sk-container-id-3 pre{padding: 0;}#sk-container-id-3 div.sk-toggleable {background-color: white;}#sk-container-id-3 label.sk-toggleable__label {cursor: pointer;display: block;width: 100%;margin-bottom: 0;padding: 0.3em;box-sizing: border-box;text-align: center;}#sk-container-id-3 label.sk-toggleable__label-arrow:before {content: \"▸\";float: left;margin-right: 0.25em;color: #696969;}#sk-container-id-3 label.sk-toggleable__label-arrow:hover:before {color: black;}#sk-container-id-3 div.sk-estimator:hover label.sk-toggleable__label-arrow:before {color: black;}#sk-container-id-3 div.sk-toggleable__content {max-height: 0;max-width: 0;overflow: hidden;text-align: left;background-color: #f0f8ff;}#sk-container-id-3 div.sk-toggleable__content pre {margin: 0.2em;color: black;border-radius: 0.25em;background-color: #f0f8ff;}#sk-container-id-3 input.sk-toggleable__control:checked~div.sk-toggleable__content {max-height: 200px;max-width: 100%;overflow: auto;}#sk-container-id-3 input.sk-toggleable__control:checked~label.sk-toggleable__label-arrow:before {content: \"▾\";}#sk-container-id-3 div.sk-estimator input.sk-toggleable__control:checked~label.sk-toggleable__label {background-color: #d4ebff;}#sk-container-id-3 div.sk-label input.sk-toggleable__control:checked~label.sk-toggleable__label {background-color: #d4ebff;}#sk-container-id-3 input.sk-hidden--visually {border: 0;clip: rect(1px 1px 1px 1px);clip: rect(1px, 1px, 1px, 1px);height: 1px;margin: -1px;overflow: hidden;padding: 0;position: absolute;width: 1px;}#sk-container-id-3 div.sk-estimator {font-family: monospace;background-color: #f0f8ff;border: 1px dotted black;border-radius: 0.25em;box-sizing: border-box;margin-bottom: 0.5em;}#sk-container-id-3 div.sk-estimator:hover {background-color: #d4ebff;}#sk-container-id-3 div.sk-parallel-item::after {content: \"\";width: 100%;border-bottom: 1px solid gray;flex-grow: 1;}#sk-container-id-3 div.sk-label:hover label.sk-toggleable__label {background-color: #d4ebff;}#sk-container-id-3 div.sk-serial::before {content: \"\";position: absolute;border-left: 1px solid gray;box-sizing: border-box;top: 0;bottom: 0;left: 50%;z-index: 0;}#sk-container-id-3 div.sk-serial {display: flex;flex-direction: column;align-items: center;background-color: white;padding-right: 0.2em;padding-left: 0.2em;position: relative;}#sk-container-id-3 div.sk-item {position: relative;z-index: 1;}#sk-container-id-3 div.sk-parallel {display: flex;align-items: stretch;justify-content: center;background-color: white;position: relative;}#sk-container-id-3 div.sk-item::before, #sk-container-id-3 div.sk-parallel-item::before {content: \"\";position: absolute;border-left: 1px solid gray;box-sizing: border-box;top: 0;bottom: 0;left: 50%;z-index: -1;}#sk-container-id-3 div.sk-parallel-item {display: flex;flex-direction: column;z-index: 1;position: relative;background-color: white;}#sk-container-id-3 div.sk-parallel-item:first-child::after {align-self: flex-end;width: 50%;}#sk-container-id-3 div.sk-parallel-item:last-child::after {align-self: flex-start;width: 50%;}#sk-container-id-3 div.sk-parallel-item:only-child::after {width: 0;}#sk-container-id-3 div.sk-dashed-wrapped {border: 1px dashed gray;margin: 0 0.4em 0.5em 0.4em;box-sizing: border-box;padding-bottom: 0.4em;background-color: white;}#sk-container-id-3 div.sk-label label {font-family: monospace;font-weight: bold;display: inline-block;line-height: 1.2em;}#sk-container-id-3 div.sk-label-container {text-align: center;}#sk-container-id-3 div.sk-container {/* jupyter's `normalize.less` sets `[hidden] { display: none; }` but bootstrap.min.css set `[hidden] { display: none !important; }` so we also need the `!important` here to be able to override the default hidden behavior on the sphinx rendered scikit-learn.org. See: https://github.com/scikit-learn/scikit-learn/issues/21755 */display: inline-block !important;position: relative;}#sk-container-id-3 div.sk-text-repr-fallback {display: none;}</style><div id=\"sk-container-id-3\" class=\"sk-top-container\"><div class=\"sk-text-repr-fallback\"><pre>RandomForestClassifier(criterion=&#x27;entropy&#x27;, random_state=42)</pre><b>In a Jupyter environment, please rerun this cell to show the HTML representation or trust the notebook. <br />On GitHub, the HTML representation is unable to render, please try loading this page with nbviewer.org.</b></div><div class=\"sk-container\" hidden><div class=\"sk-item\"><div class=\"sk-estimator sk-toggleable\"><input class=\"sk-toggleable__control sk-hidden--visually\" id=\"sk-estimator-id-7\" type=\"checkbox\" checked><label for=\"sk-estimator-id-7\" class=\"sk-toggleable__label sk-toggleable__label-arrow\">RandomForestClassifier</label><div class=\"sk-toggleable__content\"><pre>RandomForestClassifier(criterion=&#x27;entropy&#x27;, random_state=42)</pre></div></div></div></div></div>"
      ],
      "text/plain": [
       "RandomForestClassifier(criterion='entropy', random_state=42)"
      ]
     },
     "execution_count": 30,
     "metadata": {},
     "output_type": "execute_result"
    }
   ],
   "source": [
    "#Random Forest with sentence embedding\n",
    "model3 = RandomForestClassifier(random_state=42,n_estimators=100,criterion='entropy')\n",
    "model3.fit(embeddings,y_train)                              "
   ]
  },
  {
   "cell_type": "code",
   "execution_count": 31,
   "id": "absent-bicycle",
   "metadata": {},
   "outputs": [
    {
     "data": {
      "text/html": [
       "<style>#sk-container-id-4 {color: black;}#sk-container-id-4 pre{padding: 0;}#sk-container-id-4 div.sk-toggleable {background-color: white;}#sk-container-id-4 label.sk-toggleable__label {cursor: pointer;display: block;width: 100%;margin-bottom: 0;padding: 0.3em;box-sizing: border-box;text-align: center;}#sk-container-id-4 label.sk-toggleable__label-arrow:before {content: \"▸\";float: left;margin-right: 0.25em;color: #696969;}#sk-container-id-4 label.sk-toggleable__label-arrow:hover:before {color: black;}#sk-container-id-4 div.sk-estimator:hover label.sk-toggleable__label-arrow:before {color: black;}#sk-container-id-4 div.sk-toggleable__content {max-height: 0;max-width: 0;overflow: hidden;text-align: left;background-color: #f0f8ff;}#sk-container-id-4 div.sk-toggleable__content pre {margin: 0.2em;color: black;border-radius: 0.25em;background-color: #f0f8ff;}#sk-container-id-4 input.sk-toggleable__control:checked~div.sk-toggleable__content {max-height: 200px;max-width: 100%;overflow: auto;}#sk-container-id-4 input.sk-toggleable__control:checked~label.sk-toggleable__label-arrow:before {content: \"▾\";}#sk-container-id-4 div.sk-estimator input.sk-toggleable__control:checked~label.sk-toggleable__label {background-color: #d4ebff;}#sk-container-id-4 div.sk-label input.sk-toggleable__control:checked~label.sk-toggleable__label {background-color: #d4ebff;}#sk-container-id-4 input.sk-hidden--visually {border: 0;clip: rect(1px 1px 1px 1px);clip: rect(1px, 1px, 1px, 1px);height: 1px;margin: -1px;overflow: hidden;padding: 0;position: absolute;width: 1px;}#sk-container-id-4 div.sk-estimator {font-family: monospace;background-color: #f0f8ff;border: 1px dotted black;border-radius: 0.25em;box-sizing: border-box;margin-bottom: 0.5em;}#sk-container-id-4 div.sk-estimator:hover {background-color: #d4ebff;}#sk-container-id-4 div.sk-parallel-item::after {content: \"\";width: 100%;border-bottom: 1px solid gray;flex-grow: 1;}#sk-container-id-4 div.sk-label:hover label.sk-toggleable__label {background-color: #d4ebff;}#sk-container-id-4 div.sk-serial::before {content: \"\";position: absolute;border-left: 1px solid gray;box-sizing: border-box;top: 0;bottom: 0;left: 50%;z-index: 0;}#sk-container-id-4 div.sk-serial {display: flex;flex-direction: column;align-items: center;background-color: white;padding-right: 0.2em;padding-left: 0.2em;position: relative;}#sk-container-id-4 div.sk-item {position: relative;z-index: 1;}#sk-container-id-4 div.sk-parallel {display: flex;align-items: stretch;justify-content: center;background-color: white;position: relative;}#sk-container-id-4 div.sk-item::before, #sk-container-id-4 div.sk-parallel-item::before {content: \"\";position: absolute;border-left: 1px solid gray;box-sizing: border-box;top: 0;bottom: 0;left: 50%;z-index: -1;}#sk-container-id-4 div.sk-parallel-item {display: flex;flex-direction: column;z-index: 1;position: relative;background-color: white;}#sk-container-id-4 div.sk-parallel-item:first-child::after {align-self: flex-end;width: 50%;}#sk-container-id-4 div.sk-parallel-item:last-child::after {align-self: flex-start;width: 50%;}#sk-container-id-4 div.sk-parallel-item:only-child::after {width: 0;}#sk-container-id-4 div.sk-dashed-wrapped {border: 1px dashed gray;margin: 0 0.4em 0.5em 0.4em;box-sizing: border-box;padding-bottom: 0.4em;background-color: white;}#sk-container-id-4 div.sk-label label {font-family: monospace;font-weight: bold;display: inline-block;line-height: 1.2em;}#sk-container-id-4 div.sk-label-container {text-align: center;}#sk-container-id-4 div.sk-container {/* jupyter's `normalize.less` sets `[hidden] { display: none; }` but bootstrap.min.css set `[hidden] { display: none !important; }` so we also need the `!important` here to be able to override the default hidden behavior on the sphinx rendered scikit-learn.org. See: https://github.com/scikit-learn/scikit-learn/issues/21755 */display: inline-block !important;position: relative;}#sk-container-id-4 div.sk-text-repr-fallback {display: none;}</style><div id=\"sk-container-id-4\" class=\"sk-top-container\"><div class=\"sk-text-repr-fallback\"><pre>SVC(C=1, probability=True, random_state=42)</pre><b>In a Jupyter environment, please rerun this cell to show the HTML representation or trust the notebook. <br />On GitHub, the HTML representation is unable to render, please try loading this page with nbviewer.org.</b></div><div class=\"sk-container\" hidden><div class=\"sk-item\"><div class=\"sk-estimator sk-toggleable\"><input class=\"sk-toggleable__control sk-hidden--visually\" id=\"sk-estimator-id-8\" type=\"checkbox\" checked><label for=\"sk-estimator-id-8\" class=\"sk-toggleable__label sk-toggleable__label-arrow\">SVC</label><div class=\"sk-toggleable__content\"><pre>SVC(C=1, probability=True, random_state=42)</pre></div></div></div></div></div>"
      ],
      "text/plain": [
       "SVC(C=1, probability=True, random_state=42)"
      ]
     },
     "execution_count": 31,
     "metadata": {},
     "output_type": "execute_result"
    }
   ],
   "source": [
    "#SVM with sentence embedding\n",
    "model4 = SVC(probability=True,C=1,kernel='rbf',gamma='scale', random_state=42)\n",
    "model4.fit(embeddings,y_train)"
   ]
  },
  {
   "cell_type": "markdown",
   "id": "reliable-absence",
   "metadata": {},
   "source": [
    "# Third Design Iteration (Sentence Embedding with SMOTE)"
   ]
  },
  {
   "cell_type": "code",
   "execution_count": 32,
   "id": "authentic-tyler",
   "metadata": {},
   "outputs": [],
   "source": [
    "#generate sentence embedding for the dataset with oversampling\n",
    "embeddings_smote = encoder.encode(X_train_smote_text)"
   ]
  },
  {
   "cell_type": "code",
   "execution_count": 33,
   "id": "technical-radar",
   "metadata": {},
   "outputs": [
    {
     "data": {
      "text/html": [
       "<style>#sk-container-id-5 {color: black;}#sk-container-id-5 pre{padding: 0;}#sk-container-id-5 div.sk-toggleable {background-color: white;}#sk-container-id-5 label.sk-toggleable__label {cursor: pointer;display: block;width: 100%;margin-bottom: 0;padding: 0.3em;box-sizing: border-box;text-align: center;}#sk-container-id-5 label.sk-toggleable__label-arrow:before {content: \"▸\";float: left;margin-right: 0.25em;color: #696969;}#sk-container-id-5 label.sk-toggleable__label-arrow:hover:before {color: black;}#sk-container-id-5 div.sk-estimator:hover label.sk-toggleable__label-arrow:before {color: black;}#sk-container-id-5 div.sk-toggleable__content {max-height: 0;max-width: 0;overflow: hidden;text-align: left;background-color: #f0f8ff;}#sk-container-id-5 div.sk-toggleable__content pre {margin: 0.2em;color: black;border-radius: 0.25em;background-color: #f0f8ff;}#sk-container-id-5 input.sk-toggleable__control:checked~div.sk-toggleable__content {max-height: 200px;max-width: 100%;overflow: auto;}#sk-container-id-5 input.sk-toggleable__control:checked~label.sk-toggleable__label-arrow:before {content: \"▾\";}#sk-container-id-5 div.sk-estimator input.sk-toggleable__control:checked~label.sk-toggleable__label {background-color: #d4ebff;}#sk-container-id-5 div.sk-label input.sk-toggleable__control:checked~label.sk-toggleable__label {background-color: #d4ebff;}#sk-container-id-5 input.sk-hidden--visually {border: 0;clip: rect(1px 1px 1px 1px);clip: rect(1px, 1px, 1px, 1px);height: 1px;margin: -1px;overflow: hidden;padding: 0;position: absolute;width: 1px;}#sk-container-id-5 div.sk-estimator {font-family: monospace;background-color: #f0f8ff;border: 1px dotted black;border-radius: 0.25em;box-sizing: border-box;margin-bottom: 0.5em;}#sk-container-id-5 div.sk-estimator:hover {background-color: #d4ebff;}#sk-container-id-5 div.sk-parallel-item::after {content: \"\";width: 100%;border-bottom: 1px solid gray;flex-grow: 1;}#sk-container-id-5 div.sk-label:hover label.sk-toggleable__label {background-color: #d4ebff;}#sk-container-id-5 div.sk-serial::before {content: \"\";position: absolute;border-left: 1px solid gray;box-sizing: border-box;top: 0;bottom: 0;left: 50%;z-index: 0;}#sk-container-id-5 div.sk-serial {display: flex;flex-direction: column;align-items: center;background-color: white;padding-right: 0.2em;padding-left: 0.2em;position: relative;}#sk-container-id-5 div.sk-item {position: relative;z-index: 1;}#sk-container-id-5 div.sk-parallel {display: flex;align-items: stretch;justify-content: center;background-color: white;position: relative;}#sk-container-id-5 div.sk-item::before, #sk-container-id-5 div.sk-parallel-item::before {content: \"\";position: absolute;border-left: 1px solid gray;box-sizing: border-box;top: 0;bottom: 0;left: 50%;z-index: -1;}#sk-container-id-5 div.sk-parallel-item {display: flex;flex-direction: column;z-index: 1;position: relative;background-color: white;}#sk-container-id-5 div.sk-parallel-item:first-child::after {align-self: flex-end;width: 50%;}#sk-container-id-5 div.sk-parallel-item:last-child::after {align-self: flex-start;width: 50%;}#sk-container-id-5 div.sk-parallel-item:only-child::after {width: 0;}#sk-container-id-5 div.sk-dashed-wrapped {border: 1px dashed gray;margin: 0 0.4em 0.5em 0.4em;box-sizing: border-box;padding-bottom: 0.4em;background-color: white;}#sk-container-id-5 div.sk-label label {font-family: monospace;font-weight: bold;display: inline-block;line-height: 1.2em;}#sk-container-id-5 div.sk-label-container {text-align: center;}#sk-container-id-5 div.sk-container {/* jupyter's `normalize.less` sets `[hidden] { display: none; }` but bootstrap.min.css set `[hidden] { display: none !important; }` so we also need the `!important` here to be able to override the default hidden behavior on the sphinx rendered scikit-learn.org. See: https://github.com/scikit-learn/scikit-learn/issues/21755 */display: inline-block !important;position: relative;}#sk-container-id-5 div.sk-text-repr-fallback {display: none;}</style><div id=\"sk-container-id-5\" class=\"sk-top-container\"><div class=\"sk-text-repr-fallback\"><pre>RandomForestClassifier(criterion=&#x27;entropy&#x27;, random_state=42)</pre><b>In a Jupyter environment, please rerun this cell to show the HTML representation or trust the notebook. <br />On GitHub, the HTML representation is unable to render, please try loading this page with nbviewer.org.</b></div><div class=\"sk-container\" hidden><div class=\"sk-item\"><div class=\"sk-estimator sk-toggleable\"><input class=\"sk-toggleable__control sk-hidden--visually\" id=\"sk-estimator-id-9\" type=\"checkbox\" checked><label for=\"sk-estimator-id-9\" class=\"sk-toggleable__label sk-toggleable__label-arrow\">RandomForestClassifier</label><div class=\"sk-toggleable__content\"><pre>RandomForestClassifier(criterion=&#x27;entropy&#x27;, random_state=42)</pre></div></div></div></div></div>"
      ],
      "text/plain": [
       "RandomForestClassifier(criterion='entropy', random_state=42)"
      ]
     },
     "execution_count": 33,
     "metadata": {},
     "output_type": "execute_result"
    }
   ],
   "source": [
    "#Random Forest with sentence embedding with SMOTE \n",
    "model5 = RandomForestClassifier(random_state=42,n_estimators=100,criterion='entropy')\n",
    "model5.fit(embeddings_smote,y_train_smote)"
   ]
  },
  {
   "cell_type": "code",
   "execution_count": 34,
   "id": "prostate-birth",
   "metadata": {},
   "outputs": [
    {
     "data": {
      "text/html": [
       "<style>#sk-container-id-6 {color: black;}#sk-container-id-6 pre{padding: 0;}#sk-container-id-6 div.sk-toggleable {background-color: white;}#sk-container-id-6 label.sk-toggleable__label {cursor: pointer;display: block;width: 100%;margin-bottom: 0;padding: 0.3em;box-sizing: border-box;text-align: center;}#sk-container-id-6 label.sk-toggleable__label-arrow:before {content: \"▸\";float: left;margin-right: 0.25em;color: #696969;}#sk-container-id-6 label.sk-toggleable__label-arrow:hover:before {color: black;}#sk-container-id-6 div.sk-estimator:hover label.sk-toggleable__label-arrow:before {color: black;}#sk-container-id-6 div.sk-toggleable__content {max-height: 0;max-width: 0;overflow: hidden;text-align: left;background-color: #f0f8ff;}#sk-container-id-6 div.sk-toggleable__content pre {margin: 0.2em;color: black;border-radius: 0.25em;background-color: #f0f8ff;}#sk-container-id-6 input.sk-toggleable__control:checked~div.sk-toggleable__content {max-height: 200px;max-width: 100%;overflow: auto;}#sk-container-id-6 input.sk-toggleable__control:checked~label.sk-toggleable__label-arrow:before {content: \"▾\";}#sk-container-id-6 div.sk-estimator input.sk-toggleable__control:checked~label.sk-toggleable__label {background-color: #d4ebff;}#sk-container-id-6 div.sk-label input.sk-toggleable__control:checked~label.sk-toggleable__label {background-color: #d4ebff;}#sk-container-id-6 input.sk-hidden--visually {border: 0;clip: rect(1px 1px 1px 1px);clip: rect(1px, 1px, 1px, 1px);height: 1px;margin: -1px;overflow: hidden;padding: 0;position: absolute;width: 1px;}#sk-container-id-6 div.sk-estimator {font-family: monospace;background-color: #f0f8ff;border: 1px dotted black;border-radius: 0.25em;box-sizing: border-box;margin-bottom: 0.5em;}#sk-container-id-6 div.sk-estimator:hover {background-color: #d4ebff;}#sk-container-id-6 div.sk-parallel-item::after {content: \"\";width: 100%;border-bottom: 1px solid gray;flex-grow: 1;}#sk-container-id-6 div.sk-label:hover label.sk-toggleable__label {background-color: #d4ebff;}#sk-container-id-6 div.sk-serial::before {content: \"\";position: absolute;border-left: 1px solid gray;box-sizing: border-box;top: 0;bottom: 0;left: 50%;z-index: 0;}#sk-container-id-6 div.sk-serial {display: flex;flex-direction: column;align-items: center;background-color: white;padding-right: 0.2em;padding-left: 0.2em;position: relative;}#sk-container-id-6 div.sk-item {position: relative;z-index: 1;}#sk-container-id-6 div.sk-parallel {display: flex;align-items: stretch;justify-content: center;background-color: white;position: relative;}#sk-container-id-6 div.sk-item::before, #sk-container-id-6 div.sk-parallel-item::before {content: \"\";position: absolute;border-left: 1px solid gray;box-sizing: border-box;top: 0;bottom: 0;left: 50%;z-index: -1;}#sk-container-id-6 div.sk-parallel-item {display: flex;flex-direction: column;z-index: 1;position: relative;background-color: white;}#sk-container-id-6 div.sk-parallel-item:first-child::after {align-self: flex-end;width: 50%;}#sk-container-id-6 div.sk-parallel-item:last-child::after {align-self: flex-start;width: 50%;}#sk-container-id-6 div.sk-parallel-item:only-child::after {width: 0;}#sk-container-id-6 div.sk-dashed-wrapped {border: 1px dashed gray;margin: 0 0.4em 0.5em 0.4em;box-sizing: border-box;padding-bottom: 0.4em;background-color: white;}#sk-container-id-6 div.sk-label label {font-family: monospace;font-weight: bold;display: inline-block;line-height: 1.2em;}#sk-container-id-6 div.sk-label-container {text-align: center;}#sk-container-id-6 div.sk-container {/* jupyter's `normalize.less` sets `[hidden] { display: none; }` but bootstrap.min.css set `[hidden] { display: none !important; }` so we also need the `!important` here to be able to override the default hidden behavior on the sphinx rendered scikit-learn.org. See: https://github.com/scikit-learn/scikit-learn/issues/21755 */display: inline-block !important;position: relative;}#sk-container-id-6 div.sk-text-repr-fallback {display: none;}</style><div id=\"sk-container-id-6\" class=\"sk-top-container\"><div class=\"sk-text-repr-fallback\"><pre>SVC(C=1, probability=True, random_state=42)</pre><b>In a Jupyter environment, please rerun this cell to show the HTML representation or trust the notebook. <br />On GitHub, the HTML representation is unable to render, please try loading this page with nbviewer.org.</b></div><div class=\"sk-container\" hidden><div class=\"sk-item\"><div class=\"sk-estimator sk-toggleable\"><input class=\"sk-toggleable__control sk-hidden--visually\" id=\"sk-estimator-id-10\" type=\"checkbox\" checked><label for=\"sk-estimator-id-10\" class=\"sk-toggleable__label sk-toggleable__label-arrow\">SVC</label><div class=\"sk-toggleable__content\"><pre>SVC(C=1, probability=True, random_state=42)</pre></div></div></div></div></div>"
      ],
      "text/plain": [
       "SVC(C=1, probability=True, random_state=42)"
      ]
     },
     "execution_count": 34,
     "metadata": {},
     "output_type": "execute_result"
    }
   ],
   "source": [
    "#SVM with sentence embeddings with SMOTE\n",
    "model6 = SVC(probability=True,C=1,kernel='rbf',gamma='scale', random_state=42)\n",
    "model6.fit(embeddings_smote,y_train_smote)"
   ]
  },
  {
   "cell_type": "markdown",
   "id": "imported-athens",
   "metadata": {},
   "source": [
    "# Testing"
   ]
  },
  {
   "cell_type": "code",
   "execution_count": 35,
   "id": "returning-syria",
   "metadata": {},
   "outputs": [
    {
     "data": {
      "text/html": [
       "<div>\n",
       "<style scoped>\n",
       "    .dataframe tbody tr th:only-of-type {\n",
       "        vertical-align: middle;\n",
       "    }\n",
       "\n",
       "    .dataframe tbody tr th {\n",
       "        vertical-align: top;\n",
       "    }\n",
       "\n",
       "    .dataframe thead th {\n",
       "        text-align: right;\n",
       "    }\n",
       "</style>\n",
       "<table border=\"1\" class=\"dataframe\">\n",
       "  <thead>\n",
       "    <tr style=\"text-align: right;\">\n",
       "      <th></th>\n",
       "      <th>tweetId</th>\n",
       "      <th>tweetText</th>\n",
       "      <th>userId</th>\n",
       "      <th>imageId(s)</th>\n",
       "      <th>username</th>\n",
       "      <th>timestamp</th>\n",
       "      <th>label</th>\n",
       "    </tr>\n",
       "  </thead>\n",
       "  <tbody>\n",
       "    <tr>\n",
       "      <th>0</th>\n",
       "      <td>578854927457349632</td>\n",
       "      <td>kereeen RT @Shyman33: Eclipse from ISS.... htt...</td>\n",
       "      <td>70824972</td>\n",
       "      <td>eclipse_01</td>\n",
       "      <td>peay_s</td>\n",
       "      <td>Fri Mar 20 09:45:43 +0000 2015</td>\n",
       "      <td>fake</td>\n",
       "    </tr>\n",
       "    <tr>\n",
       "      <th>1</th>\n",
       "      <td>578874632670953472</td>\n",
       "      <td>Absolutely beautiful! RT @Shyman33: Eclipse fr...</td>\n",
       "      <td>344707006</td>\n",
       "      <td>eclipse_01</td>\n",
       "      <td>JaredUcanChange</td>\n",
       "      <td>Fri Mar 20 11:04:02 +0000 2015</td>\n",
       "      <td>fake</td>\n",
       "    </tr>\n",
       "    <tr>\n",
       "      <th>2</th>\n",
       "      <td>578891261353984000</td>\n",
       "      <td>“@Shyman33: Eclipse from ISS.... http://t.co/C...</td>\n",
       "      <td>224839607</td>\n",
       "      <td>eclipse_01</td>\n",
       "      <td>tpjp1231</td>\n",
       "      <td>Fri Mar 20 12:10:06 +0000 2015</td>\n",
       "      <td>fake</td>\n",
       "    </tr>\n",
       "    <tr>\n",
       "      <th>3</th>\n",
       "      <td>578846612312748032</td>\n",
       "      <td>Eclipse from ISS.... http://t.co/En87OtvsU6</td>\n",
       "      <td>134543073</td>\n",
       "      <td>eclipse_01</td>\n",
       "      <td>Shyman33</td>\n",
       "      <td>Fri Mar 20 09:12:41 +0000 2015</td>\n",
       "      <td>fake</td>\n",
       "    </tr>\n",
       "    <tr>\n",
       "      <th>4</th>\n",
       "      <td>578975333841551360</td>\n",
       "      <td>@ebonfigli: Éclipse vue de l'ISS... Autre chos...</td>\n",
       "      <td>1150728872</td>\n",
       "      <td>eclipse_01</td>\n",
       "      <td>Epimethee_</td>\n",
       "      <td>Fri Mar 20 17:44:11 +0000 2015</td>\n",
       "      <td>fake</td>\n",
       "    </tr>\n",
       "    <tr>\n",
       "      <th>...</th>\n",
       "      <td>...</td>\n",
       "      <td>...</td>\n",
       "      <td>...</td>\n",
       "      <td>...</td>\n",
       "      <td>...</td>\n",
       "      <td>...</td>\n",
       "      <td>...</td>\n",
       "    </tr>\n",
       "    <tr>\n",
       "      <th>3776</th>\n",
       "      <td>578433150071775232</td>\n",
       "      <td>Un présentateur de la ZDF confesse avoir truqu...</td>\n",
       "      <td>257551211</td>\n",
       "      <td>varoufakis_1</td>\n",
       "      <td>Cdt_Sylvestre</td>\n",
       "      <td>Thu Mar 19 05:49:44 +0000 2015</td>\n",
       "      <td>fake</td>\n",
       "    </tr>\n",
       "    <tr>\n",
       "      <th>3777</th>\n",
       "      <td>578433646597656576</td>\n",
       "      <td>Oh les kleine menteurs @CorineBarella: Un prés...</td>\n",
       "      <td>27575883</td>\n",
       "      <td>varoufakis_1</td>\n",
       "      <td>damomarc</td>\n",
       "      <td>Thu Mar 19 05:51:42 +0000 2015</td>\n",
       "      <td>fake</td>\n",
       "    </tr>\n",
       "    <tr>\n",
       "      <th>3778</th>\n",
       "      <td>578486910491996160</td>\n",
       "      <td>Este es el programa de ZDF en el que confirman...</td>\n",
       "      <td>2049211</td>\n",
       "      <td>varoufakis_1</td>\n",
       "      <td>javierpascual</td>\n",
       "      <td>Thu Mar 19 09:23:21 +0000 2015</td>\n",
       "      <td>fake</td>\n",
       "    </tr>\n",
       "    <tr>\n",
       "      <th>3779</th>\n",
       "      <td>578505023912591360</td>\n",
       "      <td>11.34 - wir haben FAST Mittag ▶ Riesen Verwirr...</td>\n",
       "      <td>262222386</td>\n",
       "      <td>varoufakis_1</td>\n",
       "      <td>aotto1968_2</td>\n",
       "      <td>Thu Mar 19 10:35:20 +0000 2015</td>\n",
       "      <td>fake</td>\n",
       "    </tr>\n",
       "    <tr>\n",
       "      <th>3780</th>\n",
       "      <td>578305144380612609</td>\n",
       "      <td>Sorry, @yanisvaroufakis! https://t.co/BSkYrbII...</td>\n",
       "      <td>19072286</td>\n",
       "      <td>varoufakis_1</td>\n",
       "      <td>janboehm</td>\n",
       "      <td>Wed Mar 18 21:21:05 +0000 2015</td>\n",
       "      <td>fake</td>\n",
       "    </tr>\n",
       "  </tbody>\n",
       "</table>\n",
       "<p>3781 rows × 7 columns</p>\n",
       "</div>"
      ],
      "text/plain": [
       "                 tweetId                                          tweetText  \\\n",
       "0     578854927457349632  kereeen RT @Shyman33: Eclipse from ISS.... htt...   \n",
       "1     578874632670953472  Absolutely beautiful! RT @Shyman33: Eclipse fr...   \n",
       "2     578891261353984000  “@Shyman33: Eclipse from ISS.... http://t.co/C...   \n",
       "3     578846612312748032        Eclipse from ISS.... http://t.co/En87OtvsU6   \n",
       "4     578975333841551360  @ebonfigli: Éclipse vue de l'ISS... Autre chos...   \n",
       "...                  ...                                                ...   \n",
       "3776  578433150071775232  Un présentateur de la ZDF confesse avoir truqu...   \n",
       "3777  578433646597656576  Oh les kleine menteurs @CorineBarella: Un prés...   \n",
       "3778  578486910491996160  Este es el programa de ZDF en el que confirman...   \n",
       "3779  578505023912591360  11.34 - wir haben FAST Mittag ▶ Riesen Verwirr...   \n",
       "3780  578305144380612609  Sorry, @yanisvaroufakis! https://t.co/BSkYrbII...   \n",
       "\n",
       "          userId    imageId(s)         username  \\\n",
       "0       70824972   eclipse_01            peay_s   \n",
       "1      344707006   eclipse_01   JaredUcanChange   \n",
       "2      224839607   eclipse_01          tpjp1231   \n",
       "3      134543073   eclipse_01          Shyman33   \n",
       "4     1150728872    eclipse_01       Epimethee_   \n",
       "...          ...           ...              ...   \n",
       "3776   257551211  varoufakis_1    Cdt_Sylvestre   \n",
       "3777    27575883  varoufakis_1         damomarc   \n",
       "3778     2049211  varoufakis_1    javierpascual   \n",
       "3779   262222386  varoufakis_1      aotto1968_2   \n",
       "3780    19072286  varoufakis_1         janboehm   \n",
       "\n",
       "                           timestamp label  \n",
       "0     Fri Mar 20 09:45:43 +0000 2015  fake  \n",
       "1     Fri Mar 20 11:04:02 +0000 2015  fake  \n",
       "2     Fri Mar 20 12:10:06 +0000 2015  fake  \n",
       "3     Fri Mar 20 09:12:41 +0000 2015  fake  \n",
       "4     Fri Mar 20 17:44:11 +0000 2015  fake  \n",
       "...                              ...   ...  \n",
       "3776  Thu Mar 19 05:49:44 +0000 2015  fake  \n",
       "3777  Thu Mar 19 05:51:42 +0000 2015  fake  \n",
       "3778  Thu Mar 19 09:23:21 +0000 2015  fake  \n",
       "3779  Thu Mar 19 10:35:20 +0000 2015  fake  \n",
       "3780  Wed Mar 18 21:21:05 +0000 2015  fake  \n",
       "\n",
       "[3781 rows x 7 columns]"
      ]
     },
     "execution_count": 35,
     "metadata": {},
     "output_type": "execute_result"
    }
   ],
   "source": [
    "# test data dataframe\n",
    "testdf=pd.DataFrame(test_data_dict)\n",
    "testdf"
   ]
  },
  {
   "cell_type": "code",
   "execution_count": 36,
   "id": "excellent-sphere",
   "metadata": {},
   "outputs": [],
   "source": [
    "#applying preprocesing steps to test data\n",
    "testdf['tweetText']=testdf['tweetText'].apply(clean_text)\n",
    "testdf['tweetText']=testdf['tweetText'].apply(lemmatization)\n",
    "testdf['tweetText']=testdf['tweetText'].apply(remove_stopwords)"
   ]
  },
  {
   "cell_type": "code",
   "execution_count": 37,
   "id": "seven-designer",
   "metadata": {},
   "outputs": [],
   "source": [
    "#converting X test to list and label encoded y test\n",
    "X_test=testdf['tweetText'].tolist()\n",
    "y_test=testdf['label'].tolist()\n",
    "y_test=label_encoder.transform(y_test)\n",
    "X_test_encoded =encoder.encode(X_test)"
   ]
  },
  {
   "cell_type": "markdown",
   "id": "adult-uganda",
   "metadata": {},
   "source": [
    "# First Design Iteration Testing"
   ]
  },
  {
   "cell_type": "code",
   "execution_count": 38,
   "id": "developed-solomon",
   "metadata": {},
   "outputs": [
    {
     "name": "stdout",
     "output_type": "stream",
     "text": [
      "              precision    recall  f1-score   support\n",
      "\n",
      "           0       0.39      0.06      0.10      1217\n",
      "           1       0.68      0.96      0.80      2564\n",
      "\n",
      "    accuracy                           0.67      3781\n",
      "   macro avg       0.53      0.51      0.45      3781\n",
      "weighted avg       0.59      0.67      0.57      3781\n",
      "\n"
     ]
    },
    {
     "data": {
      "image/png": "[encoded data removed]",
      "text/plain": [
       "<Figure size 720x576 with 2 Axes>"
      ]
     },
     "metadata": {
      "needs_background": "light"
     },
     "output_type": "display_data"
    },
    {
     "data": {
      "image/png": "[encoded data removed]",
      "text/plain": [
       "<Figure size 432x288 with 1 Axes>"
      ]
     },
     "metadata": {
      "needs_background": "light"
     },
     "output_type": "display_data"
    }
   ],
   "source": [
    "#perform model prediction on test data\n",
    "test_prediction1 = pipeline1.predict(X_test)\n",
    "\n",
    "#display classification report for error analysis\n",
    "print(classification_report(y_test,test_prediction1))\n",
    "\n",
    "#plot the confusion matrix\n",
    "plt.figure(figsize=(10,8))\n",
    "ax = sns.heatmap(confusion_matrix(y_test,test_prediction1),annot=True,fmt=\"d\",cmap=\"coolwarm\")\n",
    "ax = ax.set(xlabel='Prediction using random forest classifier with TF-IDF',ylabel='True label',title='Confusion Matrix')\n",
    "\n",
    "#plot the ROC curve\n",
    "fpr1, tpr1, thresholds1 = roc_curve(y_test, test_prediction1)\n",
    "roc_auc1 = auc(fpr1, tpr1)\n",
    "ROC_curve1=RocCurveDisplay(fpr=fpr1, tpr=tpr1, roc_auc=roc_auc1)\n",
    "ROC_curve1.plot()\n",
    "plt.title('ROC curve for pipeline using random forest with TF-IDF')\n",
    "plt.show()"
   ]
  },
  {
   "cell_type": "code",
   "execution_count": 39,
   "id": "spanish-number",
   "metadata": {},
   "outputs": [
    {
     "name": "stdout",
     "output_type": "stream",
     "text": [
      "              precision    recall  f1-score   support\n",
      "\n",
      "           0       0.82      0.65      0.73      1217\n",
      "           1       0.85      0.93      0.89      2564\n",
      "\n",
      "    accuracy                           0.84      3781\n",
      "   macro avg       0.84      0.79      0.81      3781\n",
      "weighted avg       0.84      0.84      0.84      3781\n",
      "\n"
     ]
    },
    {
     "data": {
      "image/png": "[encoded data removed]",
      "text/plain": [
       "<Figure size 720x576 with 2 Axes>"
      ]
     },
     "metadata": {
      "needs_background": "light"
     },
     "output_type": "display_data"
    },
    {
     "data": {
      "image/png": "[encoded data removed]",
      "text/plain": [
       "<Figure size 432x288 with 1 Axes>"
      ]
     },
     "metadata": {
      "needs_background": "light"
     },
     "output_type": "display_data"
    }
   ],
   "source": [
    "#perform model prediction on test data\n",
    "test_prediction2 = pipeline2.predict(X_test)\n",
    "\n",
    "#dislay classification report for error analysis\n",
    "print(classification_report(y_test,test_prediction2))\n",
    "\n",
    "#plot confusion matrix\n",
    "plt.figure(figsize=(10,8))\n",
    "ax = sns.heatmap(confusion_matrix(y_test,test_prediction2),annot=True,fmt=\"d\",cmap=\"coolwarm\")\n",
    "ax = ax.set(xlabel='Prediction using SVM with TF-IDF',ylabel='True label',title='Confusion Matrix')\n",
    "\n",
    "#plot ROC curve\n",
    "fpr2, tpr2, thresholds2 = roc_curve(y_test, test_prediction2)\n",
    "roc_auc2 = auc(fpr2, tpr2)\n",
    "ROC_curve2=RocCurveDisplay(fpr=fpr2, tpr=tpr2, roc_auc=roc_auc2)\n",
    "ROC_curve2.plot()\n",
    "plt.title('ROC curve for pipeline using SVM with TF-IDF')\n",
    "plt.show()"
   ]
  },
  {
   "cell_type": "markdown",
   "id": "actual-relaxation",
   "metadata": {},
   "source": [
    "# Second Design Iteration Testing"
   ]
  },
  {
   "cell_type": "code",
   "execution_count": 40,
   "id": "premier-retreat",
   "metadata": {},
   "outputs": [
    {
     "name": "stdout",
     "output_type": "stream",
     "text": [
      "              precision    recall  f1-score   support\n",
      "\n",
      "           0       0.56      0.03      0.05      1217\n",
      "           1       0.68      0.99      0.81      2564\n",
      "\n",
      "    accuracy                           0.68      3781\n",
      "   macro avg       0.62      0.51      0.43      3781\n",
      "weighted avg       0.64      0.68      0.56      3781\n",
      "\n"
     ]
    },
    {
     "data": {
      "image/png": "[encoded data removed]",
      "text/plain": [
       "<Figure size 720x576 with 2 Axes>"
      ]
     },
     "metadata": {
      "needs_background": "light"
     },
     "output_type": "display_data"
    },
    {
     "data": {
      "image/png": "[encoded data removed]",
      "text/plain": [
       "<Figure size 432x288 with 1 Axes>"
      ]
     },
     "metadata": {
      "needs_background": "light"
     },
     "output_type": "display_data"
    }
   ],
   "source": [
    "#perform model prediction on test data\n",
    "test_prediction3 = model3.predict(X_test_encoded)\n",
    "\n",
    "#display classification report for error analysis\n",
    "print(classification_report(y_test,test_prediction3))\n",
    "\n",
    "#plot confusion matrix\n",
    "plt.figure(figsize=(10,8))\n",
    "ax = sns.heatmap(confusion_matrix(y_test,test_prediction3),annot=True,fmt=\"d\",cmap=\"coolwarm\")\n",
    "ax = ax.set(xlabel='Prediction using random forest with sentence embedding',ylabel='True label',title='Confusion Matrix')\n",
    "\n",
    "#plot ROC curve\n",
    "fpr3, tpr3, thresholds3 = roc_curve(y_test, test_prediction3)\n",
    "roc_auc3 = auc(fpr3, tpr3)\n",
    "ROC_curve3=RocCurveDisplay(fpr=fpr3, tpr=tpr3, roc_auc=roc_auc3)\n",
    "ROC_curve3.plot()\n",
    "plt.title('ROC curve for pipeline using random forest with sentence embedding')\n",
    "plt.show()"
   ]
  },
  {
   "cell_type": "code",
   "execution_count": 41,
   "id": "japanese-rugby",
   "metadata": {},
   "outputs": [
    {
     "name": "stdout",
     "output_type": "stream",
     "text": [
      "              precision    recall  f1-score   support\n",
      "\n",
      "           0       0.88      0.86      0.87      1217\n",
      "           1       0.94      0.94      0.94      2564\n",
      "\n",
      "    accuracy                           0.92      3781\n",
      "   macro avg       0.91      0.90      0.91      3781\n",
      "weighted avg       0.92      0.92      0.92      3781\n",
      "\n"
     ]
    },
    {
     "data": {
      "image/png": "[encoded data removed]",
      "text/plain": [
       "<Figure size 720x576 with 2 Axes>"
      ]
     },
     "metadata": {
      "needs_background": "light"
     },
     "output_type": "display_data"
    },
    {
     "data": {
      "image/png": "[encoded data removed]",
      "text/plain": [
       "<Figure size 432x288 with 1 Axes>"
      ]
     },
     "metadata": {
      "needs_background": "light"
     },
     "output_type": "display_data"
    }
   ],
   "source": [
    "#perform model prediction on test data\n",
    "test_prediction4 = model4.predict(X_test_encoded)\n",
    "\n",
    "#display classification report for error analysis\n",
    "print(classification_report(y_test,test_prediction4))\n",
    "\n",
    "#plot confusion matrix\n",
    "plt.figure(figsize=(10,8))\n",
    "ax = sns.heatmap(confusion_matrix(y_test,test_prediction4),annot=True,fmt=\"d\",cmap=\"coolwarm\")\n",
    "ax = ax.set(xlabel='Prediction using SVM with Sentence Embedding',ylabel='True label',title='Confusion Matrix')\n",
    "\n",
    "#plot ROC curve\n",
    "fpr4, tpr4, thresholds4= roc_curve(y_test, test_prediction4)\n",
    "roc_auc4 = auc(fpr4, tpr4)\n",
    "ROC_curve4=RocCurveDisplay(fpr=fpr4, tpr=tpr4, roc_auc=roc_auc4)\n",
    "ROC_curve4.plot()\n",
    "plt.title('ROC curve for pipeline using SVM with Sentence Embedding')\n",
    "plt.show()"
   ]
  },
  {
   "cell_type": "markdown",
   "id": "similar-combine",
   "metadata": {},
   "source": [
    "# Third Design iteration testing"
   ]
  },
  {
   "cell_type": "code",
   "execution_count": 42,
   "id": "burning-andorra",
   "metadata": {},
   "outputs": [
    {
     "name": "stdout",
     "output_type": "stream",
     "text": [
      "              precision    recall  f1-score   support\n",
      "\n",
      "           0       0.95      0.64      0.77      1217\n",
      "           1       0.85      0.99      0.91      2564\n",
      "\n",
      "    accuracy                           0.88      3781\n",
      "   macro avg       0.90      0.81      0.84      3781\n",
      "weighted avg       0.89      0.88      0.87      3781\n",
      "\n"
     ]
    },
    {
     "data": {
      "image/png": "[encoded data removed]",
      "text/plain": [
       "<Figure size 720x576 with 2 Axes>"
      ]
     },
     "metadata": {
      "needs_background": "light"
     },
     "output_type": "display_data"
    },
    {
     "data": {
      "image/png": "[encoded data removed]",
      "text/plain": [
       "<Figure size 432x288 with 1 Axes>"
      ]
     },
     "metadata": {
      "needs_background": "light"
     },
     "output_type": "display_data"
    }
   ],
   "source": [
    "#perform model prediction on test data\n",
    "test_prediction5 = model5.predict(X_test_encoded)\n",
    "\n",
    "#display classification report for error analysis\n",
    "print(classification_report(y_test,test_prediction5))\n",
    "\n",
    "#plot confusion matrix\n",
    "plt.figure(figsize=(10,8))\n",
    "ax = sns.heatmap(confusion_matrix(y_test,test_prediction5),annot=True,fmt=\"d\",cmap=\"coolwarm\")\n",
    "ax = ax.set(xlabel='Prediction using random forest with Sentence Embedding and SMOTE',ylabel='True label',title='Confusion Matrix')\n",
    "\n",
    "#plot ROC curve\n",
    "fpr5, tpr5, thresholds5= roc_curve(y_test, test_prediction5)\n",
    "roc_auc5 = auc(fpr5, tpr5)\n",
    "ROC_curve5=RocCurveDisplay(fpr=fpr5, tpr=tpr5, roc_auc=roc_auc5)\n",
    "ROC_curve5.plot()\n",
    "plt.title('ROC curve for pipeline using random forest with Sentence Embedding and SMOTE')\n",
    "plt.show()"
   ]
  },
  {
   "cell_type": "code",
   "execution_count": 43,
   "id": "million-cycling",
   "metadata": {},
   "outputs": [
    {
     "name": "stdout",
     "output_type": "stream",
     "text": [
      "              precision    recall  f1-score   support\n",
      "\n",
      "           0       0.87      0.87      0.87      1217\n",
      "           1       0.94      0.94      0.94      2564\n",
      "\n",
      "    accuracy                           0.92      3781\n",
      "   macro avg       0.90      0.90      0.90      3781\n",
      "weighted avg       0.92      0.92      0.92      3781\n",
      "\n"
     ]
    },
    {
     "data": {
      "image/png": "[encoded data removed]",
      "text/plain": [
       "<Figure size 720x576 with 2 Axes>"
      ]
     },
     "metadata": {
      "needs_background": "light"
     },
     "output_type": "display_data"
    },
    {
     "data": {
      "image/png": "[encoded data removed]",
      "text/plain": [
       "<Figure size 432x288 with 1 Axes>"
      ]
     },
     "metadata": {
      "needs_background": "light"
     },
     "output_type": "display_data"
    }
   ],
   "source": [
    "#perform model prediction on test data\n",
    "test_prediction6 = model6.predict(X_test_encoded)\n",
    "\n",
    "#display classification report for error analysis\n",
    "print(classification_report(y_test,test_prediction6))\n",
    "\n",
    "#display the confusion matrix\n",
    "plt.figure(figsize=(10,8))\n",
    "ax = sns.heatmap(confusion_matrix(y_test,test_prediction6),annot=True,fmt=\"d\",cmap=\"coolwarm\")\n",
    "ax = ax.set(xlabel='Prediction using SVM with Sentence Embedding and SMOTE',ylabel='True label',title='Confusion Matrix')\n",
    "\n",
    "#plot the ROC curve\n",
    "fpr6, tpr6, thresholds6= roc_curve(y_test, test_prediction6)\n",
    "roc_auc6 = auc(fpr6, tpr6)\n",
    "ROC_curve6=RocCurveDisplay(fpr=fpr6, tpr=tpr6, roc_auc=roc_auc6)\n",
    "ROC_curve6.plot()\n",
    "plt.title('ROC curve for pipeline using SVM with Sentence Embedding and SMOTE')\n",
    "plt.show()"
   ]
  },
  {
   "cell_type": "code",
   "execution_count": null,
   "id": "finite-surfing",
   "metadata": {},
   "outputs": [],
   "source": []
  }
 ],
 "metadata": {
  "kernelspec": {
   "display_name": "Python 3",
   "language": "python",
   "name": "python3"
  },
  "language_info": {
   "codemirror_mode": {
    "name": "ipython",
    "version": 3
   },
   "file_extension": ".py",
   "mimetype": "text/x-python",
   "name": "python",
   "nbconvert_exporter": "python",
   "pygments_lexer": "ipython3",
   "version": "3.8.0"
  }
 },
 "nbformat": 4,
 "nbformat_minor": 5
}
